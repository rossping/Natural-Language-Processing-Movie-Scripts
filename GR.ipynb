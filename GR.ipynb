{
 "cells": [
  {
   "cell_type": "code",
   "execution_count": 19,
   "metadata": {},
   "outputs": [],
   "source": [
    "import os\n",
    "import re\n",
    "import numpy as np\n",
    "import pandas as pd\n",
    "GR = [os.path.join(\"data/Guy\", p) for p in os.listdir(\"data/Guy\")]\n",
    "\n",
    "def clean_data(text):\n",
    "    text = re.sub('\\n','',text)\n",
    "    text1 = re.sub(\"'s\",' is',text)\n",
    "    text2 = re.sub(\"'m\",' am', text1)\n",
    "    text3 = re.sub(\"n't\", ' not', text2)\n",
    "    text4 = re.sub(\"'ll\", ' will', text3)\n",
    "    text5 = re.sub(\"'ve\", ' have', text4)\n",
    "    return text5\n",
    "\n",
    "\n",
    "gr_data = []\n",
    "for p in GR:\n",
    "    with open(p) as f:\n",
    "        content = \"\"\n",
    "        for line in f:\n",
    "            line = line.strip().lower()\n",
    "            line = \" \".join(line.split(\"\\n\"))\n",
    "            line = clean_data(line)\n",
    "            line = re.sub(r\"\\s+\", \" \", line) \n",
    "            line = re.sub(r\"\\t+\", \" \", line)\n",
    "            line = line.strip().replace(u'\\u3000', u'').replace(u'\\xa0', u'')\n",
    "            # '\\a0': 不间断空白符、'\\u3000': 特殊空白符\n",
    "            # https://www.cnblogs.com/zqifa/p/python-9.html\n",
    "            line = re.sub('[^A-Za-z ]*','',line)\n",
    "            content  += \" \" + line\n",
    "        content = \" \".join([w for w in content.split(\" \") if len(w)>0])\n",
    "        gr_data.append(content)\n"
   ]
  },
  {
   "cell_type": "code",
   "execution_count": 20,
   "metadata": {},
   "outputs": [
    {
     "data": {
      "text/plain": [
       "['data/Guy/ROCKNROLLA.txt',\n",
       " 'data/Guy/SNATCH.txt',\n",
       " 'data/Guy/Lock.txt',\n",
       " 'data/Guy/SHERLOCKHOLMES.txt']"
      ]
     },
     "execution_count": 20,
     "metadata": {},
     "output_type": "execute_result"
    }
   ],
   "source": [
    "GR"
   ]
  },
  {
   "cell_type": "code",
   "execution_count": 21,
   "metadata": {},
   "outputs": [],
   "source": [
    "# stemmer\n",
    "\n",
    "from nltk.stem import PorterStemmer\n",
    "def clean_article(text):\n",
    "    ps = PorterStemmer()\n",
    "    text_new = ps.stem(text) \n",
    "    return text_new\n",
    "\n",
    "gr = []\n",
    "for i in range(len(gr_data)):\n",
    "    gr.append(clean_article(gr_data[i]))"
   ]
  },
  {
   "cell_type": "code",
   "execution_count": 22,
   "metadata": {},
   "outputs": [],
   "source": [
    "stopwords_gr = ['eddy','serg','bacon','nick','tom','soap','hatchet','slick','plank','chris','jd',\n",
    "               'charles','willy','wiston','gary','dean','don','phil','samoan','frazer','croupier','william',\n",
    "               'daisy','rory','barry','mick','dog','paul','lenny','john','slick','estate','agent',\n",
    "               'other','lawyer','type','mumbles','cole','councilor','uri','victor','stella','tax','bertie',\n",
    "               'dolly','one','two','archy','rocknrolla','malcolm','tank','mickey','rock','roller','roman','bob','bandy',\n",
    "               'danny','fred','pete','johnny','jackie','waster','secretary','story','handsome','watson',\n",
    "               'holmes','thug','blackwood','lestrade','lab','newspaper','library','mrs','hudson','mary',\n",
    "               'john','baker','irene','lord','coward','sir','thomas','perigerine','standish','tanner','doctor',\n",
    "               'constable','clark','franky','russian','four','fingers','tommy','gorgeous','george','boris',\n",
    "               'hands','doug','alex','susi','vinny','sol','kid','micky','mum','tyrone','pauline',\n",
    "               'ref','r','ef','peter','cont','turkish','mullet','errol','lincoln','brick','top','patrick',\n",
    "               'btt','daren'] # characters' name in QT's movies\n",
    "\n",
    "\n"
   ]
  },
  {
   "cell_type": "code",
   "execution_count": 23,
   "metadata": {},
   "outputs": [],
   "source": [
    "# remove stopwords\n",
    "\n",
    "from nltk.corpus import stopwords\n",
    "\n",
    "stop = stopwords.words('english')\n",
    "\n",
    "def rm_swgr (text):\n",
    "    new = []\n",
    "    for i in range(len(text)):\n",
    "        new1 = ''\n",
    "        for word in text[i].split(\" \"):\n",
    "            if word not in stop:\n",
    "                if word not in stopwords_gr:\n",
    "                    new1 += word  + \" \"\n",
    "        new.append(new1)\n",
    "    return new\n",
    "                "
   ]
  },
  {
   "cell_type": "code",
   "execution_count": 24,
   "metadata": {},
   "outputs": [],
   "source": [
    "gr_cleaned_data = rm_swgr(gr)"
   ]
  },
  {
   "cell_type": "code",
   "execution_count": 25,
   "metadata": {},
   "outputs": [],
   "source": [
    "movie = ['RocknRolla','SNATCH','Lock, Stock and Two Smoking Barrels','SHERLOCK HOLMES']\n",
    "Year = ['2008','1991','1998','2009']\n",
    "Genres = ['comedy,action,crime','comedy,crime','crime,thriller,comedy','action,adventure,crime,mystery,thrillrt']\n",
    "Rating = ['7.71','9.38','8.55','10']\n",
    "\n",
    "GR_df = pd.DataFrame(gr_cleaned_data)\n",
    "GR_df.columns = ['Script']\n",
    "GR_df.insert(0,'movie',movie)\n",
    "GR_df.insert(1,'Year',Year)\n",
    "GR_df.insert(2,'Genres',Genres)\n",
    "GR_df.insert(4,'Rating',Rating)\n",
    "# GR dataframe for sentiment analysis."
   ]
  },
  {
   "cell_type": "code",
   "execution_count": 26,
   "metadata": {},
   "outputs": [
    {
     "data": {
      "text/html": [
       "<div>\n",
       "<style scoped>\n",
       "    .dataframe tbody tr th:only-of-type {\n",
       "        vertical-align: middle;\n",
       "    }\n",
       "\n",
       "    .dataframe tbody tr th {\n",
       "        vertical-align: top;\n",
       "    }\n",
       "\n",
       "    .dataframe thead th {\n",
       "        text-align: right;\n",
       "    }\n",
       "</style>\n",
       "<table border=\"1\" class=\"dataframe\">\n",
       "  <thead>\n",
       "    <tr style=\"text-align: right;\">\n",
       "      <th></th>\n",
       "      <th>movie</th>\n",
       "      <th>Year</th>\n",
       "      <th>Genres</th>\n",
       "      <th>Script</th>\n",
       "      <th>Rating</th>\n",
       "    </tr>\n",
       "  </thead>\n",
       "  <tbody>\n",
       "    <tr>\n",
       "      <td>0</td>\n",
       "      <td>RocknRolla</td>\n",
       "      <td>2008</td>\n",
       "      <td>comedy,action,crime</td>\n",
       "      <td>eatdatdrocknrolla written guy ritchie june whi...</td>\n",
       "      <td>7.71</td>\n",
       "    </tr>\n",
       "    <tr>\n",
       "      <td>1</td>\n",
       "      <td>SNATCH</td>\n",
       "      <td>1991</td>\n",
       "      <td>comedy,crime</td>\n",
       "      <td>ghsmtbdsnatch guy ritchie draft educational au...</td>\n",
       "      <td>9.38</td>\n",
       "    </tr>\n",
       "    <tr>\n",
       "      <td>2</td>\n",
       "      <td>Lock, Stock and Two Smoking Barrels</td>\n",
       "      <td>1998</td>\n",
       "      <td>crime,thriller,comedy</td>\n",
       "      <td>hlock stock smoking barrels guy ritchie int in...</td>\n",
       "      <td>8.55</td>\n",
       "    </tr>\n",
       "    <tr>\n",
       "      <td>3</td>\n",
       "      <td>SHERLOCK HOLMES</td>\n",
       "      <td>2009</td>\n",
       "      <td>action,adventure,crime,mystery,thrillrt</td>\n",
       "      <td>mssherlock fade ext streets london night autum...</td>\n",
       "      <td>10</td>\n",
       "    </tr>\n",
       "  </tbody>\n",
       "</table>\n",
       "</div>"
      ],
      "text/plain": [
       "                                 movie  Year  \\\n",
       "0                           RocknRolla  2008   \n",
       "1                               SNATCH  1991   \n",
       "2  Lock, Stock and Two Smoking Barrels  1998   \n",
       "3                      SHERLOCK HOLMES  2009   \n",
       "\n",
       "                                    Genres  \\\n",
       "0                      comedy,action,crime   \n",
       "1                             comedy,crime   \n",
       "2                    crime,thriller,comedy   \n",
       "3  action,adventure,crime,mystery,thrillrt   \n",
       "\n",
       "                                              Script Rating  \n",
       "0  eatdatdrocknrolla written guy ritchie june whi...   7.71  \n",
       "1  ghsmtbdsnatch guy ritchie draft educational au...   9.38  \n",
       "2  hlock stock smoking barrels guy ritchie int in...   8.55  \n",
       "3  mssherlock fade ext streets london night autum...     10  "
      ]
     },
     "execution_count": 26,
     "metadata": {},
     "output_type": "execute_result"
    }
   ],
   "source": [
    "GR_df"
   ]
  },
  {
   "cell_type": "code",
   "execution_count": 27,
   "metadata": {},
   "outputs": [],
   "source": [
    "# Split data into several small data:\n",
    "def sp_text(x):\n",
    "    sen = []\n",
    "    for i in range(len(x)):\n",
    "        sen += re.findall(r'.{200}',x[i]) # split the data by the length, each small string length is 200\n",
    "    return sen"
   ]
  },
  {
   "cell_type": "code",
   "execution_count": 28,
   "metadata": {},
   "outputs": [],
   "source": [
    "QT_df = pd.read_csv('QT_data.csv')"
   ]
  },
  {
   "cell_type": "code",
   "execution_count": 29,
   "metadata": {},
   "outputs": [],
   "source": [
    "qt_data = list(QT_df.Script)"
   ]
  },
  {
   "cell_type": "code",
   "execution_count": 30,
   "metadata": {},
   "outputs": [],
   "source": [
    "all_data = qt_data + gr_data"
   ]
  },
  {
   "cell_type": "code",
   "execution_count": 31,
   "metadata": {},
   "outputs": [],
   "source": [
    "qt_split_data = sp_text(qt_data)\n",
    "gr_split_data = sp_text(gr_data)"
   ]
  },
  {
   "cell_type": "code",
   "execution_count": 32,
   "metadata": {},
   "outputs": [
    {
     "data": {
      "text/html": [
       "<div>\n",
       "<style scoped>\n",
       "    .dataframe tbody tr th:only-of-type {\n",
       "        vertical-align: middle;\n",
       "    }\n",
       "\n",
       "    .dataframe tbody tr th {\n",
       "        vertical-align: top;\n",
       "    }\n",
       "\n",
       "    .dataframe thead th {\n",
       "        text-align: right;\n",
       "    }\n",
       "</style>\n",
       "<table border=\"1\" class=\"dataframe\">\n",
       "  <thead>\n",
       "    <tr style=\"text-align: right;\">\n",
       "      <th></th>\n",
       "      <th>Type</th>\n",
       "      <th>Script</th>\n",
       "    </tr>\n",
       "  </thead>\n",
       "  <tbody>\n",
       "    <tr>\n",
       "      <td>0</td>\n",
       "      <td>0</td>\n",
       "      <td>four rooms screenplay allison anders alexandre...</td>\n",
       "    </tr>\n",
       "    <tr>\n",
       "      <td>1</td>\n",
       "      <td>0</td>\n",
       "      <td>logo four rooms followed starring tim roth be...</td>\n",
       "    </tr>\n",
       "    <tr>\n",
       "      <td>2</td>\n",
       "      <td>0</td>\n",
       "      <td>abana nyc wish niagara falls rickshaws babes b...</td>\n",
       "    </tr>\n",
       "    <tr>\n",
       "      <td>3</td>\n",
       "      <td>0</td>\n",
       "      <td>d staff fifty place one left days comes one sa...</td>\n",
       "    </tr>\n",
       "    <tr>\n",
       "      <td>4</td>\n",
       "      <td>0</td>\n",
       "      <td>answered try keep simple kid personal another...</td>\n",
       "    </tr>\n",
       "    <tr>\n",
       "      <td>...</td>\n",
       "      <td>...</td>\n",
       "      <td>...</td>\n",
       "    </tr>\n",
       "    <tr>\n",
       "      <td>2502</td>\n",
       "      <td>1</td>\n",
       "      <td>e dangerous and the more valuable of the two w...</td>\n",
       "    </tr>\n",
       "    <tr>\n",
       "      <td>2503</td>\n",
       "      <td>1</td>\n",
       "      <td>head in man to watson i have loaded the last ...</td>\n",
       "    </tr>\n",
       "    <tr>\n",
       "      <td>2504</td>\n",
       "      <td>1</td>\n",
       "      <td>for watson in the carriage holmes and watson ...</td>\n",
       "    </tr>\n",
       "    <tr>\n",
       "      <td>2505</td>\n",
       "      <td>1</td>\n",
       "      <td>a warm look an understanding between the two m...</td>\n",
       "    </tr>\n",
       "    <tr>\n",
       "      <td>2506</td>\n",
       "      <td>1</td>\n",
       "      <td>ents and be careful she waves to holmes as the...</td>\n",
       "    </tr>\n",
       "  </tbody>\n",
       "</table>\n",
       "<p>6943 rows × 2 columns</p>\n",
       "</div>"
      ],
      "text/plain": [
       "     Type                                             Script\n",
       "0       0  four rooms screenplay allison anders alexandre...\n",
       "1       0   logo four rooms followed starring tim roth be...\n",
       "2       0  abana nyc wish niagara falls rickshaws babes b...\n",
       "3       0  d staff fifty place one left days comes one sa...\n",
       "4       0   answered try keep simple kid personal another...\n",
       "...   ...                                                ...\n",
       "2502    1  e dangerous and the more valuable of the two w...\n",
       "2503    1   head in man to watson i have loaded the last ...\n",
       "2504    1   for watson in the carriage holmes and watson ...\n",
       "2505    1  a warm look an understanding between the two m...\n",
       "2506    1  ents and be careful she waves to holmes as the...\n",
       "\n",
       "[6943 rows x 2 columns]"
      ]
     },
     "execution_count": 32,
     "metadata": {},
     "output_type": "execute_result"
    }
   ],
   "source": [
    "qt_sp_df = pd.DataFrame(qt_split_data)\n",
    "qt_sp_df.columns = ['Script']\n",
    "qt_sp_df.insert(0,'Type',\"0\")\n",
    "gr_sp_df = pd.DataFrame(gr_split_data)\n",
    "gr_sp_df.columns = ['Script']\n",
    "gr_sp_df.insert(0,'Type',\"1\")\n",
    "all_sp_df = qt_sp_df.append(gr_sp_df)\n",
    "all_sp_df"
   ]
  },
  {
   "cell_type": "code",
   "execution_count": 35,
   "metadata": {},
   "outputs": [
    {
     "name": "stdout",
     "output_type": "stream",
     "text": [
      "              precision    recall  f1-score   support\n",
      "\n",
      "           0       0.90      0.97      0.93      1775\n",
      "           1       0.93      0.81      0.87      1003\n",
      "\n",
      "    accuracy                           0.91      2778\n",
      "   macro avg       0.92      0.89      0.90      2778\n",
      "weighted avg       0.91      0.91      0.91      2778\n",
      "\n"
     ]
    }
   ],
   "source": [
    "from sklearn.model_selection import train_test_split\n",
    "\n",
    "y_label = [int(yl) for yl in list(all_sp_df.Type)]\n",
    "\n",
    "#依次导入X， y， test_size split the textual data:\n",
    "X_train, X_test, y_train, y_test = train_test_split(all_sp_df.Script, y_label, test_size=0.4,stratify=all_sp_df.Type)\n",
    "# stratify 处理不均衡的数据集\n",
    "\n",
    "from sklearn.feature_extraction.text import CountVectorizer\n",
    "\n",
    "cv = CountVectorizer(ngram_range = (2,3),stop_words = 'english')\n",
    "\n",
    "#fit_transform是fit和transform两种方法的简写\n",
    "#fit方法用于构建特征空间（构建词典）\n",
    "#transform方法使用该空间将文本数据转化为特征矩阵\n",
    "X_train_cv = cv.fit_transform(X_train)\n",
    "X_train_cv.shape\n",
    "\n",
    "from sklearn.linear_model import LogisticRegression\n",
    "from sklearn.metrics import classification_report\n",
    "\n",
    "#用学到的特征空间去对测试集数据进行转换为特征矩阵\n",
    "X_test_cv = cv.transform(X_test)\n",
    "#测试集特征矩阵的列数与训练集特征矩阵的列数是一致的，都是19985\n",
    "X_test_cv\n",
    "# Navie Bayes:\n",
    "# 多项式朴素贝叶斯：sklearn.naive_bayes.MultinomialNB(alpha=1.0, fit_prior=True, class_prior=None)\n",
    "from sklearn.naive_bayes import MultinomialNB\n",
    "nb = MultinomialNB()\n",
    "#这里是有监督的训练模型\n",
    "#所以要同时输入X_train_cv和y_train\n",
    "nb.fit(X_train_cv, y_train)\n",
    "#训练好的模型，对测试集数据进行预测\n",
    "predicted_cv = nb.predict(X_test_cv)\n",
    "print(classification_report(y_test, predicted_cv, labels=[0,1]))"
   ]
  },
  {
   "cell_type": "code",
   "execution_count": 36,
   "metadata": {},
   "outputs": [
    {
     "data": {
      "text/plain": [
       "Text(0.5, 1.0, '$ROC curve$')"
      ]
     },
     "execution_count": 36,
     "metadata": {},
     "output_type": "execute_result"
    },
    {
     "data": {
      "image/png": "[encoded data removed]",
      "text/plain": [
       "<Figure size 432x288 with 1 Axes>"
      ]
     },
     "metadata": {
      "needs_background": "light"
     },
     "output_type": "display_data"
    }
   ],
   "source": [
    "from sklearn.metrics import roc_auc_score,roc_curve\n",
    "import seaborn as sns\n",
    "import matplotlib\n",
    "import matplotlib.pyplot as plt\n",
    "\n",
    "fpr,tpr,thresholds=roc_curve(y_test,predicted_cv)  #计算fpr,tpr,thresholds\n",
    "auc1=roc_auc_score(y_test,predicted_cv) #计算auc\n",
    "\n",
    "#画曲线图\n",
    "plt.figure()\n",
    "plt.plot(fpr,tpr)\n",
    "plt.title('$ROC curve$')"
   ]
  },
  {
   "cell_type": "code",
   "execution_count": 50,
   "metadata": {},
   "outputs": [
    {
     "name": "stdout",
     "output_type": "stream",
     "text": [
      "              precision    recall  f1-score   support\n",
      "\n",
      "           0       0.91      1.00      0.96      1775\n",
      "           1       1.00      0.84      0.91      1003\n",
      "\n",
      "    accuracy                           0.94      2778\n",
      "   macro avg       0.96      0.92      0.93      2778\n",
      "weighted avg       0.95      0.94      0.94      2778\n",
      "\n"
     ]
    }
   ],
   "source": [
    "# TF-IDF:\n",
    "from sklearn.feature_extraction.text import TfidfVectorizer\n",
    "\n",
    "\n",
    "tv = TfidfVectorizer(ngram_range = (1,1),stop_words='english')\n",
    "X_train_tf = tv.fit_transform(X_train)\n",
    "X_test_tf = tv.transform(X_test)\n",
    "nb2 = MultinomialNB()\n",
    "nb2.fit(X_train_tf, y_train)\n",
    "predicted_tf = nb2.predict(X_test_tf)\n",
    "print(classification_report(y_test, predicted_tf, labels=[0,1]))"
   ]
  },
  {
   "cell_type": "code",
   "execution_count": 51,
   "metadata": {},
   "outputs": [
    {
     "data": {
      "image/png": "[encoded data removed]",
      "text/plain": [
       "<Figure size 432x288 with 1 Axes>"
      ]
     },
     "metadata": {
      "needs_background": "light"
     },
     "output_type": "display_data"
    }
   ],
   "source": [
    "fpr,tpr,thresholds=roc_curve(y_test,predicted_tf)  #计算fpr,tpr,thresholds\n",
    "auc=roc_auc_score(y_test,predicted_tf) #计算auc\n",
    "\n",
    "#画曲线图\n",
    "plt.figure()\n",
    "plt.plot(fpr,tpr)\n",
    "plt.title('$ROC curve$')\n",
    "plt.show()"
   ]
  },
  {
   "cell_type": "code",
   "execution_count": 18,
   "metadata": {},
   "outputs": [
    {
     "data": {
      "text/plain": [
       "0.9758771572606124"
      ]
     },
     "execution_count": 18,
     "metadata": {},
     "output_type": "execute_result"
    }
   ],
   "source": [
    "auc1"
   ]
  },
  {
   "cell_type": "code",
   "execution_count": null,
   "metadata": {},
   "outputs": [],
   "source": []
  },
  {
   "cell_type": "code",
   "execution_count": 52,
   "metadata": {},
   "outputs": [
    {
     "name": "stdout",
     "output_type": "stream",
     "text": [
      "              precision    recall  f1-score   support\n",
      "\n",
      "           0       1.00      1.00      1.00      1775\n",
      "           1       1.00      1.00      1.00      1003\n",
      "\n",
      "    accuracy                           1.00      2778\n",
      "   macro avg       1.00      1.00      1.00      2778\n",
      "weighted avg       1.00      1.00      1.00      2778\n",
      "\n"
     ]
    }
   ],
   "source": [
    "## \n",
    "\n",
    "## Logistic Regression: \n",
    "\n",
    "from sklearn.linear_model import LogisticRegression\n",
    "from sklearn.metrics import classification_report\n",
    "\n",
    "cv = CountVectorizer()\n",
    "X_train_counts = cv.fit_transform(X_train)\n",
    "X_test_counts = cv.transform(X_test)\n",
    "\n",
    "\n",
    "LR = LogisticRegression()\n",
    "LR.fit(X_train_counts, y_train)\n",
    "predicted_lr = LR.predict(X_test_counts)\n",
    "predicted_lr_pb = LR.predict_proba(X_test_counts)\n",
    "print(classification_report(y_test, predicted_lr, labels=[0,1]))"
   ]
  },
  {
   "cell_type": "code",
   "execution_count": 53,
   "metadata": {},
   "outputs": [
    {
     "data": {
      "image/png": "[encoded data removed]",
      "text/plain": [
       "<Figure size 432x288 with 1 Axes>"
      ]
     },
     "metadata": {
      "needs_background": "light"
     },
     "output_type": "display_data"
    }
   ],
   "source": [
    "fpr,tpr,thresholds=roc_curve(y_test,predicted_lr)  #计算fpr,tpr,thresholds\n",
    "auc=roc_auc_score(y_test,predicted_lr) #计算auc\n",
    "\n",
    "#画曲线图\n",
    "plt.figure()\n",
    "plt.plot(fpr,tpr)\n",
    "plt.title('$ROC curve$')\n",
    "plt.show()"
   ]
  },
  {
   "cell_type": "code",
   "execution_count": null,
   "metadata": {},
   "outputs": [],
   "source": []
  }
 ],
 "metadata": {
  "kernelspec": {
   "display_name": "Python 3",
   "language": "python",
   "name": "python3"
  },
  "language_info": {
   "codemirror_mode": {
    "name": "ipython",
    "version": 3
   },
   "file_extension": ".py",
   "mimetype": "text/x-python",
   "name": "python",
   "nbconvert_exporter": "python",
   "pygments_lexer": "ipython3",
   "version": "3.7.4"
  }
 },
 "nbformat": 4,
 "nbformat_minor": 2
}
