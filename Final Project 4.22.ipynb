{
 "cells": [
  {
   "cell_type": "markdown",
   "metadata": {},
   "source": [
    "# Final Project: Movie Script Analysis ( QT & Disney )\n",
    "## Pre-cleaning and Parsing:\n",
    "### QTs:\n"
   ]
  },
  {
   "cell_type": "code",
   "execution_count": 1,
   "metadata": {},
   "outputs": [],
   "source": [
    "import os\n",
    "import re\n",
    "import numpy as np\n",
    "import pandas as pd\n",
    "\n",
    "qts = [os.path.join(\"data/QT\", p) for p in os.listdir(\"data/QT\")]\n",
    "\n",
    "def clean_data(text):\n",
    "    text = re.sub('\\n','',text)\n",
    "    text1 = re.sub(\"'s\",' is',text)\n",
    "    text2 = re.sub(\"'m\",' am', text1)\n",
    "    text3 = re.sub(\"n't\", ' not', text2)\n",
    "    text4 = re.sub(\"'ll\", ' will', text3)\n",
    "    text5 = re.sub(\"'ve\", ' have', text4)\n",
    "    return text5\n",
    "\n",
    "\n",
    "qt_data = []\n",
    "for p in qts:\n",
    "    with open(p) as f:\n",
    "        content = \"\"\n",
    "        for line in f:\n",
    "            line = line.strip().lower()\n",
    "            line = \" \".join(line.split(\"\\n\"))\n",
    "            line = clean_data(line)\n",
    "            line = re.sub(r\"\\s+\", \" \", line) \n",
    "            line = re.sub(r\"\\t+\", \" \", line)\n",
    "            line = line.strip().replace(u'\\u3000', u'').replace(u'\\xa0', u'')\n",
    "            # '\\a0': 不间断空白符、'\\u3000': 特殊空白符\n",
    "            # https://www.cnblogs.com/zqifa/p/python-9.html\n",
    "            line = re.sub('[^A-Za-z ]*','',line)\n",
    "            content  += \" \" + line\n",
    "        content = \" \".join([w for w in content.split(\" \") if len(w)>0])\n",
    "        qt_data.append(content)\n",
    "\n",
    "\n"
   ]
  },
  {
   "cell_type": "code",
   "execution_count": 2,
   "metadata": {},
   "outputs": [],
   "source": [
    "# stemmer\n",
    "\n",
    "from nltk.stem import PorterStemmer\n",
    "def clean_article(text):\n",
    "    ps = PorterStemmer()\n",
    "    text_new = ps.stem(text) \n",
    "    return text_new\n",
    "\n",
    "qt = []\n",
    "for i in range(len(qt_data)):\n",
    "    qt.append(clean_article(qt_data[i]))"
   ]
  },
  {
   "cell_type": "code",
   "execution_count": 3,
   "metadata": {},
   "outputs": [],
   "source": [
    "stopwords_qt = ['django','rider','dicky','speck','ace','le','schultz','saloon','keeper','sheriff','sharp','marshall',\n",
    "                'tatum','zz','spencer','betina','scotty','broomhilda','narrator','vo','calvin','candie','stephen','woody',\n",
    "                'german','lara','lee','flody','jano','bennett','chester','icz','billy','crash','ted','guy','betty','elspeth',\n",
    "                'kiva','athena','raven','eva','jezabel','yuppie','scum','sigfried','juancho','sarah','margaret','angela',\n",
    "                'leo','norman','mcgraw','pete','seth','richard','jacob','scott','kate','kelly','houge','santanico','frost',\n",
    "                'carlos','farmer','julie','perrier','col','landa','charlotte','driver','lt','aldo','butz','pvt','shosanna',\n",
    "                'marcel','goebbels','narrator','fredrick','zoller','bridget','hellstorm','hicox','stiglitz','wicki','wilhelm',\n",
    "                'willi','italian','donowitz','sidney','ordell','louis','jackie','melanie','nicolet','dargus','max','sheronda',\n",
    "                'wanda','amy','beaumont','bill','housewife','vernita','elle','bride','orderly','slam','sushi','chef','budd','pai',\n",
    "                'mei','mickey','mabel','earl','mallory','mcclusky','scagnetti','wurlizter','sonny','wayne','russell','steve',\n",
    "                'simon','jeff','movie','jessie','otis','young','man','woman','jody','lance','vincent','jules','brett','butch',\n",
    "                'mia','esmarelda','fabienne','maynard','zed','jimmie','wolf','pumpkin','yolanda','mr','pink','white','blue','joe',\n",
    "                'brown','orange','blonde','eddie','vic','cop','holdaway','freddy','jodie','lucy','clarence','drexl','d','cliff',\n",
    "                'alabama','dick','coccotti','marty','elvis','elliot','lenny','marvin','dimes','dario'] # characters' name in QT's movies\n",
    "\n"
   ]
  },
  {
   "cell_type": "code",
   "execution_count": 4,
   "metadata": {},
   "outputs": [],
   "source": [
    "# remove stopwords\n",
    "\n",
    "from nltk.corpus import stopwords\n",
    "\n",
    "stop = stopwords.words('english')\n",
    "\n",
    "def rm_swqt (text):\n",
    "    new = []\n",
    "    for i in range(len(text)):\n",
    "        new1 = ''\n",
    "        for word in text[i].split(\" \"):\n",
    "            if word not in stop:\n",
    "                if word not in stopwords_qt:\n",
    "                    new1 += word  + \" \"\n",
    "        new.append(new1)\n",
    "    return new\n",
    "                \n",
    "\n"
   ]
  },
  {
   "cell_type": "code",
   "execution_count": 5,
   "metadata": {},
   "outputs": [],
   "source": [
    "qt_cleaned_data = rm_swqt(qt) # QT's cleaned data"
   ]
  },
  {
   "cell_type": "markdown",
   "metadata": {},
   "source": [
    "### Disneys:"
   ]
  },
  {
   "cell_type": "code",
   "execution_count": 6,
   "metadata": {},
   "outputs": [],
   "source": [
    "disney = [os.path.join(\"data/Disney\", p) for p in os.listdir(\"data/Disney\")]\n",
    "\n",
    "def clean_data(text):\n",
    "    text = re.sub('\\n','',text)\n",
    "    text1 = re.sub(\"'s\",' is',text)\n",
    "    text2 = re.sub(\"'m\",' am', text1)\n",
    "    text3 = re.sub(\"n't\", ' not', text2)\n",
    "    text4 = re.sub(\"'ll\", ' will', text3)\n",
    "    text5 = re.sub(\"'ve\", ' have', text4)\n",
    "    return text5\n",
    "\n",
    "\n",
    "disney_data = []\n",
    "for p in disney:\n",
    "    with open(p) as f:\n",
    "        content = \"\"\n",
    "        for line in f:\n",
    "            line = line.strip().lower()\n",
    "            line = \" \".join(line.split(\"\\n\"))\n",
    "            line = clean_data(line)\n",
    "            line = re.sub(r\"\\s+\", \" \", line) \n",
    "            line = re.sub(r\"\\t+\", \" \", line)\n",
    "            line = line.strip().replace(u'\\u3000', u'').replace(u'\\xa0', u'') # 去除‘\\t’ 也无法去除的空格\n",
    "            line = re.sub('[^A-Za-z ]*','',line)\n",
    "            content  += \" \" + line\n",
    "        content = \" \".join([w for w in content.split(\" \") if len(w)>0])\n",
    "        disney_data.append(content)\n",
    "\n",
    "\n"
   ]
  },
  {
   "cell_type": "code",
   "execution_count": 7,
   "metadata": {},
   "outputs": [],
   "source": [
    "# stemmer\n",
    "\n",
    "disney = []\n",
    "for i in range(len(disney_data)):\n",
    "    disney.append(clean_article(disney_data[i]))"
   ]
  },
  {
   "cell_type": "code",
   "execution_count": 8,
   "metadata": {},
   "outputs": [],
   "source": [
    "stopwords_disney = ['mulan','guard','shan','yu','li','chi','fu','general','emperor','fa','hair','dresser',\n",
    "                   'chorus','maiden','zhou','grandma','matchmaker','mushu','shang','ancestor','barry','cook','hun','ling',\n",
    "                   'yao','chien','po','cri','kee','jafar','peddler','gazeem','aladdin','guardus','iago','prince','sultan',\n",
    "                   'proprietor','abu','cave','jasmine','shopkeeper','genie','chorus','narrator','maid','majordomo','footman',\n",
    "                   'jean','belle','villagers','clothilde','tom','dick','pere','robert','apothecary','gaston','diva','vagrant',\n",
    "                   'lefou','maurice','nasty','chip','lasses','lumiere','chandelier','beast','plumette','potts','mrs',\n",
    "                   'cadenza','cogsworth','tavern','marlin','coral','nemo','bob','pearl','sheldon','ray','mr','tad','dory',\n",
    "                   'bruce','anchor','chum','nigel','bubbles','gurgle','bloat','patient','deb','peach','gill','jacques',\n",
    "                   'crush','squirt','crab','gull','darla','ice','harvesters','anna','elsa','young','queen','king','kristoff',\n",
    "                   'grand','pabbie','duke','kai','hans','both','oaken','olaf','bulda','bert','admiral','boom','binnalce',\n",
    "                   'ellen','brill','katie','nanna','banks','jane','constable','minchael','mary','poppins','albert','dawes',\n",
    "                   'sailors','eric','grimsby','seahorse','flounder','ariel','triton','sebastian','ursula','jetsam','louis',\n",
    "                   'pilot','serbian','shane','charles','seal','julie','chun','helga','zoe','todd','lulu','peter','murney',\n",
    "                   'claire','romeo','juliet','gregory','sampson','abra','benvolio','tybalt','capulet','lawyer','caroline',\n",
    "                   'mercutio','nurse','altar','judy','gideon','bonnie','hopps','stu','astronaut','jaguar','grey','friedkin',\n",
    "                   'major','kudu','pootosser','nick','yax','bogo','lionheart','badger','doctor','leopard','gazelle','bellwether',\n",
    "                   'prey','anchor','otterton','woolter']\n",
    "\n",
    "\n",
    "\n"
   ]
  },
  {
   "cell_type": "code",
   "execution_count": 9,
   "metadata": {},
   "outputs": [],
   "source": [
    "def rm_swdisney (text):\n",
    "    new = []\n",
    "    for i in range(len(text)):\n",
    "        new1 = ''\n",
    "        for word in text[i].split(\" \"):\n",
    "            if word not in stop:\n",
    "                if word not in stopwords_disney:\n",
    "                    new1 += word  + \" \"\n",
    "        new.append(new1)\n",
    "    return new"
   ]
  },
  {
   "cell_type": "code",
   "execution_count": 10,
   "metadata": {},
   "outputs": [],
   "source": [
    "disney_cleaned_data = rm_swdisney(disney)"
   ]
  },
  {
   "cell_type": "markdown",
   "metadata": {},
   "source": [
    "## Sentiment Analysis: \n",
    "\n"
   ]
  },
  {
   "cell_type": "code",
   "execution_count": 11,
   "metadata": {},
   "outputs": [],
   "source": [
    "import pandas as pd"
   ]
  },
  {
   "cell_type": "markdown",
   "metadata": {},
   "source": [
    "### ANEW："
   ]
  },
  {
   "cell_type": "code",
   "execution_count": 12,
   "metadata": {},
   "outputs": [],
   "source": [
    "ANEW = pd.read_csv(\"all.csv\")\n",
    "new = ANEW[['Description','Valence Mean']]\n",
    "AS = new['Description'].tolist()\n",
    "AX = new['Valence Mean'].tolist()\n",
    "ANEW = dict(zip(AS,AX))\n",
    "\n"
   ]
  },
  {
   "cell_type": "code",
   "execution_count": 13,
   "metadata": {},
   "outputs": [],
   "source": [
    "def anew_score(text):\n",
    "    dict_anew = {}\n",
    "    score = 0\n",
    "    for word in text.split():\n",
    "        if word in ANEW.keys():\n",
    "            if word not in dict_anew.keys():\n",
    "                dict_anew[word] = 1\n",
    "            else:\n",
    "                dict_anew[word] +=1\n",
    "    for word in dict_anew.keys():\n",
    "        score += (dict_anew[word] * ANEW[word])/sum(dict_anew.values())\n",
    "    return score"
   ]
  },
  {
   "cell_type": "markdown",
   "metadata": {},
   "source": [
    "### Havard IV:"
   ]
  },
  {
   "cell_type": "code",
   "execution_count": 14,
   "metadata": {},
   "outputs": [
    {
     "name": "stderr",
     "output_type": "stream",
     "text": [
      "/opt/anaconda3/lib/python3.7/site-packages/ipykernel_launcher.py:5: SettingWithCopyWarning: \n",
      "A value is trying to be set on a copy of a slice from a DataFrame\n",
      "\n",
      "See the caveats in the documentation: http://pandas.pydata.org/pandas-docs/stable/user_guide/indexing.html#returning-a-view-versus-a-copy\n",
      "  \"\"\"\n",
      "/opt/anaconda3/lib/python3.7/site-packages/pandas/core/generic.py:6786: SettingWithCopyWarning: \n",
      "A value is trying to be set on a copy of a slice from a DataFrame\n",
      "\n",
      "See the caveats in the documentation: http://pandas.pydata.org/pandas-docs/stable/user_guide/indexing.html#returning-a-view-versus-a-copy\n",
      "  self._update_inplace(new_data)\n",
      "/opt/anaconda3/lib/python3.7/site-packages/ipykernel_launcher.py:8: SettingWithCopyWarning: \n",
      "A value is trying to be set on a copy of a slice from a DataFrame\n",
      "\n",
      "See the caveats in the documentation: http://pandas.pydata.org/pandas-docs/stable/user_guide/indexing.html#returning-a-view-versus-a-copy\n",
      "  \n",
      "/opt/anaconda3/lib/python3.7/site-packages/ipykernel_launcher.py:13: SettingWithCopyWarning: \n",
      "A value is trying to be set on a copy of a slice from a DataFrame\n",
      "\n",
      "See the caveats in the documentation: http://pandas.pydata.org/pandas-docs/stable/user_guide/indexing.html#returning-a-view-versus-a-copy\n",
      "  del sys.path[0]\n",
      "/opt/anaconda3/lib/python3.7/site-packages/ipykernel_launcher.py:16: SettingWithCopyWarning: \n",
      "A value is trying to be set on a copy of a slice from a DataFrame\n",
      "\n",
      "See the caveats in the documentation: http://pandas.pydata.org/pandas-docs/stable/user_guide/indexing.html#returning-a-view-versus-a-copy\n",
      "  app.launch_new_instance()\n"
     ]
    }
   ],
   "source": [
    "po_ne = pd.read_excel('inquireraugmented.xls') \n",
    "\n",
    "# negative list:\n",
    "negative = po_ne[['Entry', 'Negativ']]\n",
    "negative.dropna(subset = ['Negativ'], inplace = True)\n",
    "negative_1 = negative[1:]\n",
    "negative_1['Entry'].replace('[^a-zA-Z_]+', '',regex = True, inplace = True)\n",
    "negative_1.drop_duplicates('Entry', 'first', inplace = True)\n",
    "negative_newlist = [str(item).lower() for item in negative_1['Entry']]\n",
    "\n",
    "# positive list:\n",
    "positive = po_ne[['Entry', 'Positiv']]\n",
    "positive.dropna(subset = ['Positiv'], inplace = True)\n",
    "positive_1 = positive[1:]\n",
    "positive_1['Entry'].replace('[^a-zA-Z_]+', '',regex = True, inplace = True)\n",
    "positive_1.drop_duplicates('Entry', 'first', inplace = True)\n",
    "positive_newlist = [str(item).lower() for item in positive_1['Entry']]"
   ]
  },
  {
   "cell_type": "code",
   "execution_count": 15,
   "metadata": {},
   "outputs": [],
   "source": [
    "# Define the function to test the positive_score and negative_score.\n",
    "\n",
    "def sentiment_score(text_input, sentiment_list):\n",
    "    score_Dict = {}\n",
    "    for i in range(len(text_input)):\n",
    "        number = 0\n",
    "        for word in text_input[i].split():\n",
    "            if word in sentiment_list:\n",
    "                number += 1\n",
    "                score_Dict[i] = number / len(text_input[i].split())\n",
    "    return(score_Dict)"
   ]
  },
  {
   "cell_type": "code",
   "execution_count": 16,
   "metadata": {},
   "outputs": [],
   "source": [
    "movie = ['Four Rooms','Inglourious Basterds','From Dusk Till Down','Natural Born killers','Django Unchained','Pulp Fiction','True Romance','Reservoir Dogs','Jackie Brown','Kill Bill']\n",
    "Year = ['1995','2008','1996','1995','2012','1993','1993','1990','1997','2003']\n",
    "Genres = ['comedy,drama','action,adventure,war','action,comedy,horror,thriller','action,romance,thriller,crime','adventure,drama,western','action,crime,drama,thriller','action,romance,thriller,crime','action,crime,thriller','comedy,crime','action,comedy,crime,drama,thriller']\n",
    "Rating = ['8.63','7.44','7.25','8.52','7.82','9.39','9.88','8.89','8.27','8.73']\n",
    "\n",
    "QT_df = pd.DataFrame(qt_cleaned_data)\n",
    "QT_df.columns = ['Script']\n",
    "QT_df.insert(0,'movie',movie)\n",
    "QT_df.insert(1,'Year',Year)\n",
    "QT_df.insert(2,'Genres',Genres)\n",
    "QT_df.insert(4,'Rating',Rating)\n",
    "# QT_df.to_csv('QT_data.csv')\n",
    "# QT dataframe for sentiment analysis."
   ]
  },
  {
   "cell_type": "code",
   "execution_count": 17,
   "metadata": {},
   "outputs": [
    {
     "data": {
      "text/html": [
       "<div>\n",
       "<style scoped>\n",
       "    .dataframe tbody tr th:only-of-type {\n",
       "        vertical-align: middle;\n",
       "    }\n",
       "\n",
       "    .dataframe tbody tr th {\n",
       "        vertical-align: top;\n",
       "    }\n",
       "\n",
       "    .dataframe thead th {\n",
       "        text-align: right;\n",
       "    }\n",
       "</style>\n",
       "<table border=\"1\" class=\"dataframe\">\n",
       "  <thead>\n",
       "    <tr style=\"text-align: right;\">\n",
       "      <th></th>\n",
       "      <th>movie</th>\n",
       "      <th>Year</th>\n",
       "      <th>Genres</th>\n",
       "      <th>Script</th>\n",
       "      <th>Rating</th>\n",
       "      <th>neg_score</th>\n",
       "      <th>pos_score</th>\n",
       "      <th>sentiment_score_iv</th>\n",
       "      <th>sentiment_score_anew</th>\n",
       "    </tr>\n",
       "  </thead>\n",
       "  <tbody>\n",
       "    <tr>\n",
       "      <td>0</td>\n",
       "      <td>Four Rooms</td>\n",
       "      <td>1995</td>\n",
       "      <td>comedy,drama</td>\n",
       "      <td>four rooms screenplay allison anders alexandre...</td>\n",
       "      <td>8.63</td>\n",
       "      <td>0.090876</td>\n",
       "      <td>0.093699</td>\n",
       "      <td>0.002823</td>\n",
       "      <td>5.878314</td>\n",
       "    </tr>\n",
       "    <tr>\n",
       "      <td>1</td>\n",
       "      <td>Inglourious Basterds</td>\n",
       "      <td>2008</td>\n",
       "      <td>action,adventure,war</td>\n",
       "      <td>jppinglourious basterds written quentin tarant...</td>\n",
       "      <td>7.44</td>\n",
       "      <td>0.077510</td>\n",
       "      <td>0.092213</td>\n",
       "      <td>0.014703</td>\n",
       "      <td>5.646904</td>\n",
       "    </tr>\n",
       "    <tr>\n",
       "      <td>2</td>\n",
       "      <td>From Dusk Till Down</td>\n",
       "      <td>1996</td>\n",
       "      <td>action,comedy,horror,thriller</td>\n",
       "      <td>rkfrom dusk till dawn screenplay quentin taran...</td>\n",
       "      <td>7.25</td>\n",
       "      <td>0.113527</td>\n",
       "      <td>0.080819</td>\n",
       "      <td>-0.032708</td>\n",
       "      <td>5.639600</td>\n",
       "    </tr>\n",
       "    <tr>\n",
       "      <td>3</td>\n",
       "      <td>Natural Born killers</td>\n",
       "      <td>1995</td>\n",
       "      <td>action,romance,thriller,crime</td>\n",
       "      <td>mewsijjnatural born killers written quentin ta...</td>\n",
       "      <td>8.52</td>\n",
       "      <td>0.098840</td>\n",
       "      <td>0.086155</td>\n",
       "      <td>-0.012686</td>\n",
       "      <td>5.310696</td>\n",
       "    </tr>\n",
       "    <tr>\n",
       "      <td>4</td>\n",
       "      <td>Django Unchained</td>\n",
       "      <td>2012</td>\n",
       "      <td>adventure,drama,western</td>\n",
       "      <td>unchained written quentin tarantino ext countr...</td>\n",
       "      <td>7.82</td>\n",
       "      <td>0.089610</td>\n",
       "      <td>0.091363</td>\n",
       "      <td>0.001753</td>\n",
       "      <td>5.594078</td>\n",
       "    </tr>\n",
       "    <tr>\n",
       "      <td>5</td>\n",
       "      <td>Pulp Fiction</td>\n",
       "      <td>1993</td>\n",
       "      <td>action,crime,drama,thriller</td>\n",
       "      <td>vbw pulp fiction quentin tarantino roger avary...</td>\n",
       "      <td>9.39</td>\n",
       "      <td>0.094869</td>\n",
       "      <td>0.089338</td>\n",
       "      <td>-0.005531</td>\n",
       "      <td>5.749571</td>\n",
       "    </tr>\n",
       "    <tr>\n",
       "      <td>6</td>\n",
       "      <td>True Romance</td>\n",
       "      <td>1993</td>\n",
       "      <td>action,romance,thriller,crime</td>\n",
       "      <td>cdameddlucy laughs well enough king bout bout ...</td>\n",
       "      <td>9.88</td>\n",
       "      <td>0.083703</td>\n",
       "      <td>0.099120</td>\n",
       "      <td>0.015417</td>\n",
       "      <td>5.883581</td>\n",
       "    </tr>\n",
       "    <tr>\n",
       "      <td>7</td>\n",
       "      <td>Reservoir Dogs</td>\n",
       "      <td>1990</td>\n",
       "      <td>action,crime,thriller</td>\n",
       "      <td>quentin tarantino r e e r v r g october dedica...</td>\n",
       "      <td>8.89</td>\n",
       "      <td>0.102989</td>\n",
       "      <td>0.093266</td>\n",
       "      <td>-0.009723</td>\n",
       "      <td>5.462150</td>\n",
       "    </tr>\n",
       "    <tr>\n",
       "      <td>8</td>\n",
       "      <td>Jackie Brown</td>\n",
       "      <td>1997</td>\n",
       "      <td>comedy,crime</td>\n",
       "      <td>ldajackie screenplay quentin tarantino opening...</td>\n",
       "      <td>8.27</td>\n",
       "      <td>0.079589</td>\n",
       "      <td>0.083852</td>\n",
       "      <td>0.004262</td>\n",
       "      <td>5.778873</td>\n",
       "    </tr>\n",
       "    <tr>\n",
       "      <td>9</td>\n",
       "      <td>Kill Bill</td>\n",
       "      <td>2003</td>\n",
       "      <td>action,comedy,crime,drama,thriller</td>\n",
       "      <td>hodsover black hear labored breathing black fr...</td>\n",
       "      <td>8.73</td>\n",
       "      <td>0.090782</td>\n",
       "      <td>0.077276</td>\n",
       "      <td>-0.013506</td>\n",
       "      <td>5.655627</td>\n",
       "    </tr>\n",
       "  </tbody>\n",
       "</table>\n",
       "</div>"
      ],
      "text/plain": [
       "                  movie  Year                              Genres  \\\n",
       "0            Four Rooms  1995                        comedy,drama   \n",
       "1  Inglourious Basterds  2008                action,adventure,war   \n",
       "2   From Dusk Till Down  1996       action,comedy,horror,thriller   \n",
       "3  Natural Born killers  1995       action,romance,thriller,crime   \n",
       "4      Django Unchained  2012             adventure,drama,western   \n",
       "5          Pulp Fiction  1993         action,crime,drama,thriller   \n",
       "6          True Romance  1993       action,romance,thriller,crime   \n",
       "7        Reservoir Dogs  1990               action,crime,thriller   \n",
       "8          Jackie Brown  1997                        comedy,crime   \n",
       "9             Kill Bill  2003  action,comedy,crime,drama,thriller   \n",
       "\n",
       "                                              Script Rating  neg_score  \\\n",
       "0  four rooms screenplay allison anders alexandre...   8.63   0.090876   \n",
       "1  jppinglourious basterds written quentin tarant...   7.44   0.077510   \n",
       "2  rkfrom dusk till dawn screenplay quentin taran...   7.25   0.113527   \n",
       "3  mewsijjnatural born killers written quentin ta...   8.52   0.098840   \n",
       "4  unchained written quentin tarantino ext countr...   7.82   0.089610   \n",
       "5  vbw pulp fiction quentin tarantino roger avary...   9.39   0.094869   \n",
       "6  cdameddlucy laughs well enough king bout bout ...   9.88   0.083703   \n",
       "7  quentin tarantino r e e r v r g october dedica...   8.89   0.102989   \n",
       "8  ldajackie screenplay quentin tarantino opening...   8.27   0.079589   \n",
       "9  hodsover black hear labored breathing black fr...   8.73   0.090782   \n",
       "\n",
       "   pos_score  sentiment_score_iv  sentiment_score_anew  \n",
       "0   0.093699            0.002823              5.878314  \n",
       "1   0.092213            0.014703              5.646904  \n",
       "2   0.080819           -0.032708              5.639600  \n",
       "3   0.086155           -0.012686              5.310696  \n",
       "4   0.091363            0.001753              5.594078  \n",
       "5   0.089338           -0.005531              5.749571  \n",
       "6   0.099120            0.015417              5.883581  \n",
       "7   0.093266           -0.009723              5.462150  \n",
       "8   0.083852            0.004262              5.778873  \n",
       "9   0.077276           -0.013506              5.655627  "
      ]
     },
     "execution_count": 17,
     "metadata": {},
     "output_type": "execute_result"
    }
   ],
   "source": [
    "Qt_script_list = list(QT_df['Script'])\n",
    "negativeDict = sentiment_score(Qt_script_list, negative_newlist)\n",
    "positiveDict = sentiment_score(Qt_script_list, positive_newlist)\n",
    "neg = list(negativeDict.values())\n",
    "pos = list(positiveDict.values())\n",
    "QT_df.insert(5,'neg_score',neg)\n",
    "QT_df.insert(6,'pos_score',pos)\n",
    "QT_df['sentiment_score_iv'] = QT_df['pos_score'] - QT_df['neg_score']\n",
    "QT_df['sentiment_score_anew'] = QT_df['Script'].apply(lambda x: anew_score(x))\n",
    "QT_df # QT dataframe with \"Harvard IV score\" and \"ANEW score\" "
   ]
  },
  {
   "cell_type": "code",
   "execution_count": 18,
   "metadata": {},
   "outputs": [],
   "source": [
    "movie = ['Aladdin','Finding Nemo','Mary Poppins','Mulan','The Little Mermaid','The Pacifier','Zootopia',' Beauty and Beast','ROMEO & JULIET','Frozen']\n",
    "Year = ['1992','2003','1964','1998','1989','2004','2016','2016','1995','2013']\n",
    "Genres = ['family,animation,comedy,musical,fantasy','family,animation,comedy,adventure','family,animation,comedy,musical,fantasy,drama','family,animation,comedy,musical,adventure','family,animation,comedy,musical,romance,fantasy','comedy,action,family,thriller','adventure,animation,comedy','family,fantasy,musical','drama,romance,comedy','adventure,animation,comedy']\n",
    "Rating = ['9.24','9.20',' 9.38','9.82','9.73','6.0','10.0','9.67','10.0','10.0']\n",
    "\n",
    "disney_df = pd.DataFrame(disney_cleaned_data)\n",
    "disney_df.columns = ['Script']\n",
    "disney_df.insert(0,'movie',movie)\n",
    "disney_df.insert(1,'Year',Year)\n",
    "disney_df.insert(2,'Genres',Genres)\n",
    "disney_df.insert(4,'Rating',Rating)\n",
    "# Disney dataframe for sentiment analysis."
   ]
  },
  {
   "cell_type": "code",
   "execution_count": 19,
   "metadata": {},
   "outputs": [
    {
     "data": {
      "text/html": [
       "<div>\n",
       "<style scoped>\n",
       "    .dataframe tbody tr th:only-of-type {\n",
       "        vertical-align: middle;\n",
       "    }\n",
       "\n",
       "    .dataframe tbody tr th {\n",
       "        vertical-align: top;\n",
       "    }\n",
       "\n",
       "    .dataframe thead th {\n",
       "        text-align: right;\n",
       "    }\n",
       "</style>\n",
       "<table border=\"1\" class=\"dataframe\">\n",
       "  <thead>\n",
       "    <tr style=\"text-align: right;\">\n",
       "      <th></th>\n",
       "      <th>movie</th>\n",
       "      <th>Year</th>\n",
       "      <th>Genres</th>\n",
       "      <th>Script</th>\n",
       "      <th>Rating</th>\n",
       "      <th>neg_score</th>\n",
       "      <th>pos_score</th>\n",
       "      <th>sentiment_score_iv</th>\n",
       "      <th>sentiment_score_anew</th>\n",
       "    </tr>\n",
       "  </thead>\n",
       "  <tbody>\n",
       "    <tr>\n",
       "      <td>0</td>\n",
       "      <td>Aladdin</td>\n",
       "      <td>1992</td>\n",
       "      <td>family,animation,comedy,musical,fantasy</td>\n",
       "      <td>gsavjgecaladdin complete script compiled ben s...</td>\n",
       "      <td>9.24</td>\n",
       "      <td>0.089018</td>\n",
       "      <td>0.105943</td>\n",
       "      <td>0.016925</td>\n",
       "      <td>5.900127</td>\n",
       "    </tr>\n",
       "    <tr>\n",
       "      <td>1</td>\n",
       "      <td>Finding Nemo</td>\n",
       "      <td>2003</td>\n",
       "      <td>family,animation,comedy,adventure</td>\n",
       "      <td>cntan finding transcript v copyright walt disn...</td>\n",
       "      <td>9.20</td>\n",
       "      <td>0.090095</td>\n",
       "      <td>0.109044</td>\n",
       "      <td>0.018949</td>\n",
       "      <td>6.036038</td>\n",
       "    </tr>\n",
       "    <tr>\n",
       "      <td>2</td>\n",
       "      <td>Mary Poppins</td>\n",
       "      <td>1964</td>\n",
       "      <td>family,animation,comedy,musical,fantasy,drama</td>\n",
       "      <td>abhap right ladies gents comical poems suitabl...</td>\n",
       "      <td>9.38</td>\n",
       "      <td>0.073023</td>\n",
       "      <td>0.147867</td>\n",
       "      <td>0.074844</td>\n",
       "      <td>6.217262</td>\n",
       "    </tr>\n",
       "    <tr>\n",
       "      <td>3</td>\n",
       "      <td>Mulan</td>\n",
       "      <td>1998</td>\n",
       "      <td>family,animation,comedy,musical,adventure</td>\n",
       "      <td>chzgrmmshhycdisney compiled adams theater show...</td>\n",
       "      <td>9.82</td>\n",
       "      <td>0.082271</td>\n",
       "      <td>0.087397</td>\n",
       "      <td>0.005126</td>\n",
       "      <td>5.921347</td>\n",
       "    </tr>\n",
       "    <tr>\n",
       "      <td>4</td>\n",
       "      <td>The Little Mermaid</td>\n",
       "      <td>1989</td>\n",
       "      <td>family,animation,comedy,musical,romance,fantasy</td>\n",
       "      <td>shthe little mermaid ocean birds flying porpoi...</td>\n",
       "      <td>9.73</td>\n",
       "      <td>0.099754</td>\n",
       "      <td>0.121891</td>\n",
       "      <td>0.022137</td>\n",
       "      <td>6.156296</td>\n",
       "    </tr>\n",
       "    <tr>\n",
       "      <td>5</td>\n",
       "      <td>The Pacifier</td>\n",
       "      <td>2004</td>\n",
       "      <td>comedy,action,family,thriller</td>\n",
       "      <td>cthe pacifier fade ext pacific ocean day fishi...</td>\n",
       "      <td>6.0</td>\n",
       "      <td>0.078187</td>\n",
       "      <td>0.081914</td>\n",
       "      <td>0.003727</td>\n",
       "      <td>5.925138</td>\n",
       "    </tr>\n",
       "    <tr>\n",
       "      <td>6</td>\n",
       "      <td>Zootopia</td>\n",
       "      <td>2016</td>\n",
       "      <td>adventure,animation,comedy</td>\n",
       "      <td>spyblgbazootopia written jared bush phil johns...</td>\n",
       "      <td>10.0</td>\n",
       "      <td>0.081025</td>\n",
       "      <td>0.092248</td>\n",
       "      <td>0.011222</td>\n",
       "      <td>5.872771</td>\n",
       "    </tr>\n",
       "    <tr>\n",
       "      <td>7</td>\n",
       "      <td>Beauty and Beast</td>\n",
       "      <td>2016</td>\n",
       "      <td>family,fantasy,musical</td>\n",
       "      <td>mgncbeauty written stephen chbosky evan spilio...</td>\n",
       "      <td>9.67</td>\n",
       "      <td>0.073202</td>\n",
       "      <td>0.093116</td>\n",
       "      <td>0.019915</td>\n",
       "      <td>6.004309</td>\n",
       "    </tr>\n",
       "    <tr>\n",
       "      <td>8</td>\n",
       "      <td>ROMEO &amp; JULIET</td>\n",
       "      <td>1995</td>\n",
       "      <td>drama,romance,comedy</td>\n",
       "      <td>sacwilliam shakespeare adapted craig pearce ba...</td>\n",
       "      <td>10.0</td>\n",
       "      <td>0.099545</td>\n",
       "      <td>0.090849</td>\n",
       "      <td>-0.008696</td>\n",
       "      <td>5.981083</td>\n",
       "    </tr>\n",
       "    <tr>\n",
       "      <td>9</td>\n",
       "      <td>Frozen</td>\n",
       "      <td>2013</td>\n",
       "      <td>adventure,animation,comedy</td>\n",
       "      <td>quhfrozen written jennifer lee final shooting ...</td>\n",
       "      <td>10.0</td>\n",
       "      <td>0.087554</td>\n",
       "      <td>0.101502</td>\n",
       "      <td>0.013948</td>\n",
       "      <td>5.924542</td>\n",
       "    </tr>\n",
       "  </tbody>\n",
       "</table>\n",
       "</div>"
      ],
      "text/plain": [
       "                movie  Year                                           Genres  \\\n",
       "0             Aladdin  1992          family,animation,comedy,musical,fantasy   \n",
       "1        Finding Nemo  2003                family,animation,comedy,adventure   \n",
       "2        Mary Poppins  1964    family,animation,comedy,musical,fantasy,drama   \n",
       "3               Mulan  1998        family,animation,comedy,musical,adventure   \n",
       "4  The Little Mermaid  1989  family,animation,comedy,musical,romance,fantasy   \n",
       "5        The Pacifier  2004                    comedy,action,family,thriller   \n",
       "6            Zootopia  2016                       adventure,animation,comedy   \n",
       "7    Beauty and Beast  2016                           family,fantasy,musical   \n",
       "8      ROMEO & JULIET  1995                             drama,romance,comedy   \n",
       "9              Frozen  2013                       adventure,animation,comedy   \n",
       "\n",
       "                                              Script Rating  neg_score  \\\n",
       "0  gsavjgecaladdin complete script compiled ben s...   9.24   0.089018   \n",
       "1  cntan finding transcript v copyright walt disn...   9.20   0.090095   \n",
       "2  abhap right ladies gents comical poems suitabl...   9.38   0.073023   \n",
       "3  chzgrmmshhycdisney compiled adams theater show...   9.82   0.082271   \n",
       "4  shthe little mermaid ocean birds flying porpoi...   9.73   0.099754   \n",
       "5  cthe pacifier fade ext pacific ocean day fishi...    6.0   0.078187   \n",
       "6  spyblgbazootopia written jared bush phil johns...   10.0   0.081025   \n",
       "7  mgncbeauty written stephen chbosky evan spilio...   9.67   0.073202   \n",
       "8  sacwilliam shakespeare adapted craig pearce ba...   10.0   0.099545   \n",
       "9  quhfrozen written jennifer lee final shooting ...   10.0   0.087554   \n",
       "\n",
       "   pos_score  sentiment_score_iv  sentiment_score_anew  \n",
       "0   0.105943            0.016925              5.900127  \n",
       "1   0.109044            0.018949              6.036038  \n",
       "2   0.147867            0.074844              6.217262  \n",
       "3   0.087397            0.005126              5.921347  \n",
       "4   0.121891            0.022137              6.156296  \n",
       "5   0.081914            0.003727              5.925138  \n",
       "6   0.092248            0.011222              5.872771  \n",
       "7   0.093116            0.019915              6.004309  \n",
       "8   0.090849           -0.008696              5.981083  \n",
       "9   0.101502            0.013948              5.924542  "
      ]
     },
     "execution_count": 19,
     "metadata": {},
     "output_type": "execute_result"
    }
   ],
   "source": [
    "disney_script_list = list(disney_df['Script'])\n",
    "negativeDict1 = sentiment_score(disney_script_list, negative_newlist)\n",
    "positiveDict1 = sentiment_score(disney_script_list, positive_newlist)\n",
    "neg = list(negativeDict1.values())\n",
    "pos = list(positiveDict1.values())\n",
    "disney_df.insert(5,'neg_score',neg)\n",
    "disney_df.insert(6,'pos_score',pos)\n",
    "disney_df['sentiment_score_iv'] = disney_df['pos_score'] - disney_df['neg_score']\n",
    "disney_df['sentiment_score_anew'] = disney_df['Script'].apply(lambda x: anew_score(x))\n",
    "disney_df # Disney dataframe with \"Harvard IV score\" and \"ANEW score\" "
   ]
  },
  {
   "cell_type": "code",
   "execution_count": 20,
   "metadata": {},
   "outputs": [
    {
     "data": {
      "text/html": [
       "<div>\n",
       "<style scoped>\n",
       "    .dataframe tbody tr th:only-of-type {\n",
       "        vertical-align: middle;\n",
       "    }\n",
       "\n",
       "    .dataframe tbody tr th {\n",
       "        vertical-align: top;\n",
       "    }\n",
       "\n",
       "    .dataframe thead th {\n",
       "        text-align: right;\n",
       "    }\n",
       "</style>\n",
       "<table border=\"1\" class=\"dataframe\">\n",
       "  <thead>\n",
       "    <tr style=\"text-align: right;\">\n",
       "      <th></th>\n",
       "      <th>Type</th>\n",
       "      <th>movie</th>\n",
       "      <th>Year</th>\n",
       "      <th>Genres</th>\n",
       "      <th>Script</th>\n",
       "      <th>Rating</th>\n",
       "      <th>neg_score</th>\n",
       "      <th>pos_score</th>\n",
       "      <th>sentiment_score_iv</th>\n",
       "      <th>sentiment_score_anew</th>\n",
       "    </tr>\n",
       "  </thead>\n",
       "  <tbody>\n",
       "    <tr>\n",
       "      <td>0</td>\n",
       "      <td>QT</td>\n",
       "      <td>Four Rooms</td>\n",
       "      <td>1995</td>\n",
       "      <td>comedy,drama</td>\n",
       "      <td>four rooms screenplay allison anders alexandre...</td>\n",
       "      <td>8.63</td>\n",
       "      <td>0.090876</td>\n",
       "      <td>0.093699</td>\n",
       "      <td>0.002823</td>\n",
       "      <td>5.878314</td>\n",
       "    </tr>\n",
       "    <tr>\n",
       "      <td>1</td>\n",
       "      <td>QT</td>\n",
       "      <td>Inglourious Basterds</td>\n",
       "      <td>2008</td>\n",
       "      <td>action,adventure,war</td>\n",
       "      <td>jppinglourious basterds written quentin tarant...</td>\n",
       "      <td>7.44</td>\n",
       "      <td>0.077510</td>\n",
       "      <td>0.092213</td>\n",
       "      <td>0.014703</td>\n",
       "      <td>5.646904</td>\n",
       "    </tr>\n",
       "    <tr>\n",
       "      <td>2</td>\n",
       "      <td>QT</td>\n",
       "      <td>From Dusk Till Down</td>\n",
       "      <td>1996</td>\n",
       "      <td>action,comedy,horror,thriller</td>\n",
       "      <td>rkfrom dusk till dawn screenplay quentin taran...</td>\n",
       "      <td>7.25</td>\n",
       "      <td>0.113527</td>\n",
       "      <td>0.080819</td>\n",
       "      <td>-0.032708</td>\n",
       "      <td>5.639600</td>\n",
       "    </tr>\n",
       "    <tr>\n",
       "      <td>3</td>\n",
       "      <td>QT</td>\n",
       "      <td>Natural Born killers</td>\n",
       "      <td>1995</td>\n",
       "      <td>action,romance,thriller,crime</td>\n",
       "      <td>mewsijjnatural born killers written quentin ta...</td>\n",
       "      <td>8.52</td>\n",
       "      <td>0.098840</td>\n",
       "      <td>0.086155</td>\n",
       "      <td>-0.012686</td>\n",
       "      <td>5.310696</td>\n",
       "    </tr>\n",
       "    <tr>\n",
       "      <td>4</td>\n",
       "      <td>QT</td>\n",
       "      <td>Django Unchained</td>\n",
       "      <td>2012</td>\n",
       "      <td>adventure,drama,western</td>\n",
       "      <td>unchained written quentin tarantino ext countr...</td>\n",
       "      <td>7.82</td>\n",
       "      <td>0.089610</td>\n",
       "      <td>0.091363</td>\n",
       "      <td>0.001753</td>\n",
       "      <td>5.594078</td>\n",
       "    </tr>\n",
       "    <tr>\n",
       "      <td>5</td>\n",
       "      <td>QT</td>\n",
       "      <td>Pulp Fiction</td>\n",
       "      <td>1993</td>\n",
       "      <td>action,crime,drama,thriller</td>\n",
       "      <td>vbw pulp fiction quentin tarantino roger avary...</td>\n",
       "      <td>9.39</td>\n",
       "      <td>0.094869</td>\n",
       "      <td>0.089338</td>\n",
       "      <td>-0.005531</td>\n",
       "      <td>5.749571</td>\n",
       "    </tr>\n",
       "    <tr>\n",
       "      <td>6</td>\n",
       "      <td>QT</td>\n",
       "      <td>True Romance</td>\n",
       "      <td>1993</td>\n",
       "      <td>action,romance,thriller,crime</td>\n",
       "      <td>cdameddlucy laughs well enough king bout bout ...</td>\n",
       "      <td>9.88</td>\n",
       "      <td>0.083703</td>\n",
       "      <td>0.099120</td>\n",
       "      <td>0.015417</td>\n",
       "      <td>5.883581</td>\n",
       "    </tr>\n",
       "    <tr>\n",
       "      <td>7</td>\n",
       "      <td>QT</td>\n",
       "      <td>Reservoir Dogs</td>\n",
       "      <td>1990</td>\n",
       "      <td>action,crime,thriller</td>\n",
       "      <td>quentin tarantino r e e r v r g october dedica...</td>\n",
       "      <td>8.89</td>\n",
       "      <td>0.102989</td>\n",
       "      <td>0.093266</td>\n",
       "      <td>-0.009723</td>\n",
       "      <td>5.462150</td>\n",
       "    </tr>\n",
       "    <tr>\n",
       "      <td>8</td>\n",
       "      <td>QT</td>\n",
       "      <td>Jackie Brown</td>\n",
       "      <td>1997</td>\n",
       "      <td>comedy,crime</td>\n",
       "      <td>ldajackie screenplay quentin tarantino opening...</td>\n",
       "      <td>8.27</td>\n",
       "      <td>0.079589</td>\n",
       "      <td>0.083852</td>\n",
       "      <td>0.004262</td>\n",
       "      <td>5.778873</td>\n",
       "    </tr>\n",
       "    <tr>\n",
       "      <td>9</td>\n",
       "      <td>QT</td>\n",
       "      <td>Kill Bill</td>\n",
       "      <td>2003</td>\n",
       "      <td>action,comedy,crime,drama,thriller</td>\n",
       "      <td>hodsover black hear labored breathing black fr...</td>\n",
       "      <td>8.73</td>\n",
       "      <td>0.090782</td>\n",
       "      <td>0.077276</td>\n",
       "      <td>-0.013506</td>\n",
       "      <td>5.655627</td>\n",
       "    </tr>\n",
       "    <tr>\n",
       "      <td>0</td>\n",
       "      <td>Disney</td>\n",
       "      <td>Aladdin</td>\n",
       "      <td>1992</td>\n",
       "      <td>family,animation,comedy,musical,fantasy</td>\n",
       "      <td>gsavjgecaladdin complete script compiled ben s...</td>\n",
       "      <td>9.24</td>\n",
       "      <td>0.089018</td>\n",
       "      <td>0.105943</td>\n",
       "      <td>0.016925</td>\n",
       "      <td>5.900127</td>\n",
       "    </tr>\n",
       "    <tr>\n",
       "      <td>1</td>\n",
       "      <td>Disney</td>\n",
       "      <td>Finding Nemo</td>\n",
       "      <td>2003</td>\n",
       "      <td>family,animation,comedy,adventure</td>\n",
       "      <td>cntan finding transcript v copyright walt disn...</td>\n",
       "      <td>9.20</td>\n",
       "      <td>0.090095</td>\n",
       "      <td>0.109044</td>\n",
       "      <td>0.018949</td>\n",
       "      <td>6.036038</td>\n",
       "    </tr>\n",
       "    <tr>\n",
       "      <td>2</td>\n",
       "      <td>Disney</td>\n",
       "      <td>Mary Poppins</td>\n",
       "      <td>1964</td>\n",
       "      <td>family,animation,comedy,musical,fantasy,drama</td>\n",
       "      <td>abhap right ladies gents comical poems suitabl...</td>\n",
       "      <td>9.38</td>\n",
       "      <td>0.073023</td>\n",
       "      <td>0.147867</td>\n",
       "      <td>0.074844</td>\n",
       "      <td>6.217262</td>\n",
       "    </tr>\n",
       "    <tr>\n",
       "      <td>3</td>\n",
       "      <td>Disney</td>\n",
       "      <td>Mulan</td>\n",
       "      <td>1998</td>\n",
       "      <td>family,animation,comedy,musical,adventure</td>\n",
       "      <td>chzgrmmshhycdisney compiled adams theater show...</td>\n",
       "      <td>9.82</td>\n",
       "      <td>0.082271</td>\n",
       "      <td>0.087397</td>\n",
       "      <td>0.005126</td>\n",
       "      <td>5.921347</td>\n",
       "    </tr>\n",
       "    <tr>\n",
       "      <td>4</td>\n",
       "      <td>Disney</td>\n",
       "      <td>The Little Mermaid</td>\n",
       "      <td>1989</td>\n",
       "      <td>family,animation,comedy,musical,romance,fantasy</td>\n",
       "      <td>shthe little mermaid ocean birds flying porpoi...</td>\n",
       "      <td>9.73</td>\n",
       "      <td>0.099754</td>\n",
       "      <td>0.121891</td>\n",
       "      <td>0.022137</td>\n",
       "      <td>6.156296</td>\n",
       "    </tr>\n",
       "    <tr>\n",
       "      <td>5</td>\n",
       "      <td>Disney</td>\n",
       "      <td>The Pacifier</td>\n",
       "      <td>2004</td>\n",
       "      <td>comedy,action,family,thriller</td>\n",
       "      <td>cthe pacifier fade ext pacific ocean day fishi...</td>\n",
       "      <td>6.0</td>\n",
       "      <td>0.078187</td>\n",
       "      <td>0.081914</td>\n",
       "      <td>0.003727</td>\n",
       "      <td>5.925138</td>\n",
       "    </tr>\n",
       "    <tr>\n",
       "      <td>6</td>\n",
       "      <td>Disney</td>\n",
       "      <td>Zootopia</td>\n",
       "      <td>2016</td>\n",
       "      <td>adventure,animation,comedy</td>\n",
       "      <td>spyblgbazootopia written jared bush phil johns...</td>\n",
       "      <td>10.0</td>\n",
       "      <td>0.081025</td>\n",
       "      <td>0.092248</td>\n",
       "      <td>0.011222</td>\n",
       "      <td>5.872771</td>\n",
       "    </tr>\n",
       "    <tr>\n",
       "      <td>7</td>\n",
       "      <td>Disney</td>\n",
       "      <td>Beauty and Beast</td>\n",
       "      <td>2016</td>\n",
       "      <td>family,fantasy,musical</td>\n",
       "      <td>mgncbeauty written stephen chbosky evan spilio...</td>\n",
       "      <td>9.67</td>\n",
       "      <td>0.073202</td>\n",
       "      <td>0.093116</td>\n",
       "      <td>0.019915</td>\n",
       "      <td>6.004309</td>\n",
       "    </tr>\n",
       "    <tr>\n",
       "      <td>8</td>\n",
       "      <td>Disney</td>\n",
       "      <td>ROMEO &amp; JULIET</td>\n",
       "      <td>1995</td>\n",
       "      <td>drama,romance,comedy</td>\n",
       "      <td>sacwilliam shakespeare adapted craig pearce ba...</td>\n",
       "      <td>10.0</td>\n",
       "      <td>0.099545</td>\n",
       "      <td>0.090849</td>\n",
       "      <td>-0.008696</td>\n",
       "      <td>5.981083</td>\n",
       "    </tr>\n",
       "    <tr>\n",
       "      <td>9</td>\n",
       "      <td>Disney</td>\n",
       "      <td>Frozen</td>\n",
       "      <td>2013</td>\n",
       "      <td>adventure,animation,comedy</td>\n",
       "      <td>quhfrozen written jennifer lee final shooting ...</td>\n",
       "      <td>10.0</td>\n",
       "      <td>0.087554</td>\n",
       "      <td>0.101502</td>\n",
       "      <td>0.013948</td>\n",
       "      <td>5.924542</td>\n",
       "    </tr>\n",
       "  </tbody>\n",
       "</table>\n",
       "</div>"
      ],
      "text/plain": [
       "     Type                 movie  Year  \\\n",
       "0      QT            Four Rooms  1995   \n",
       "1      QT  Inglourious Basterds  2008   \n",
       "2      QT   From Dusk Till Down  1996   \n",
       "3      QT  Natural Born killers  1995   \n",
       "4      QT      Django Unchained  2012   \n",
       "5      QT          Pulp Fiction  1993   \n",
       "6      QT          True Romance  1993   \n",
       "7      QT        Reservoir Dogs  1990   \n",
       "8      QT          Jackie Brown  1997   \n",
       "9      QT             Kill Bill  2003   \n",
       "0  Disney               Aladdin  1992   \n",
       "1  Disney          Finding Nemo  2003   \n",
       "2  Disney          Mary Poppins  1964   \n",
       "3  Disney                 Mulan  1998   \n",
       "4  Disney    The Little Mermaid  1989   \n",
       "5  Disney          The Pacifier  2004   \n",
       "6  Disney              Zootopia  2016   \n",
       "7  Disney      Beauty and Beast  2016   \n",
       "8  Disney        ROMEO & JULIET  1995   \n",
       "9  Disney                Frozen  2013   \n",
       "\n",
       "                                            Genres  \\\n",
       "0                                     comedy,drama   \n",
       "1                             action,adventure,war   \n",
       "2                    action,comedy,horror,thriller   \n",
       "3                    action,romance,thriller,crime   \n",
       "4                          adventure,drama,western   \n",
       "5                      action,crime,drama,thriller   \n",
       "6                    action,romance,thriller,crime   \n",
       "7                            action,crime,thriller   \n",
       "8                                     comedy,crime   \n",
       "9               action,comedy,crime,drama,thriller   \n",
       "0          family,animation,comedy,musical,fantasy   \n",
       "1                family,animation,comedy,adventure   \n",
       "2    family,animation,comedy,musical,fantasy,drama   \n",
       "3        family,animation,comedy,musical,adventure   \n",
       "4  family,animation,comedy,musical,romance,fantasy   \n",
       "5                    comedy,action,family,thriller   \n",
       "6                       adventure,animation,comedy   \n",
       "7                           family,fantasy,musical   \n",
       "8                             drama,romance,comedy   \n",
       "9                       adventure,animation,comedy   \n",
       "\n",
       "                                              Script Rating  neg_score  \\\n",
       "0  four rooms screenplay allison anders alexandre...   8.63   0.090876   \n",
       "1  jppinglourious basterds written quentin tarant...   7.44   0.077510   \n",
       "2  rkfrom dusk till dawn screenplay quentin taran...   7.25   0.113527   \n",
       "3  mewsijjnatural born killers written quentin ta...   8.52   0.098840   \n",
       "4  unchained written quentin tarantino ext countr...   7.82   0.089610   \n",
       "5  vbw pulp fiction quentin tarantino roger avary...   9.39   0.094869   \n",
       "6  cdameddlucy laughs well enough king bout bout ...   9.88   0.083703   \n",
       "7  quentin tarantino r e e r v r g october dedica...   8.89   0.102989   \n",
       "8  ldajackie screenplay quentin tarantino opening...   8.27   0.079589   \n",
       "9  hodsover black hear labored breathing black fr...   8.73   0.090782   \n",
       "0  gsavjgecaladdin complete script compiled ben s...   9.24   0.089018   \n",
       "1  cntan finding transcript v copyright walt disn...   9.20   0.090095   \n",
       "2  abhap right ladies gents comical poems suitabl...   9.38   0.073023   \n",
       "3  chzgrmmshhycdisney compiled adams theater show...   9.82   0.082271   \n",
       "4  shthe little mermaid ocean birds flying porpoi...   9.73   0.099754   \n",
       "5  cthe pacifier fade ext pacific ocean day fishi...    6.0   0.078187   \n",
       "6  spyblgbazootopia written jared bush phil johns...   10.0   0.081025   \n",
       "7  mgncbeauty written stephen chbosky evan spilio...   9.67   0.073202   \n",
       "8  sacwilliam shakespeare adapted craig pearce ba...   10.0   0.099545   \n",
       "9  quhfrozen written jennifer lee final shooting ...   10.0   0.087554   \n",
       "\n",
       "   pos_score  sentiment_score_iv  sentiment_score_anew  \n",
       "0   0.093699            0.002823              5.878314  \n",
       "1   0.092213            0.014703              5.646904  \n",
       "2   0.080819           -0.032708              5.639600  \n",
       "3   0.086155           -0.012686              5.310696  \n",
       "4   0.091363            0.001753              5.594078  \n",
       "5   0.089338           -0.005531              5.749571  \n",
       "6   0.099120            0.015417              5.883581  \n",
       "7   0.093266           -0.009723              5.462150  \n",
       "8   0.083852            0.004262              5.778873  \n",
       "9   0.077276           -0.013506              5.655627  \n",
       "0   0.105943            0.016925              5.900127  \n",
       "1   0.109044            0.018949              6.036038  \n",
       "2   0.147867            0.074844              6.217262  \n",
       "3   0.087397            0.005126              5.921347  \n",
       "4   0.121891            0.022137              6.156296  \n",
       "5   0.081914            0.003727              5.925138  \n",
       "6   0.092248            0.011222              5.872771  \n",
       "7   0.093116            0.019915              6.004309  \n",
       "8   0.090849           -0.008696              5.981083  \n",
       "9   0.101502            0.013948              5.924542  "
      ]
     },
     "execution_count": 20,
     "metadata": {},
     "output_type": "execute_result"
    }
   ],
   "source": [
    "disney_df.insert(0,'Type','Disney')\n",
    "QT_df.insert(0,'Type','QT')\n",
    "all_df = QT_df.append(disney_df)\n",
    "all_df"
   ]
  },
  {
   "cell_type": "code",
   "execution_count": 21,
   "metadata": {},
   "outputs": [],
   "source": [
    "all_df.to_csv('NEW_dataframe.csv')"
   ]
  },
  {
   "cell_type": "markdown",
   "metadata": {},
   "source": [
    "### Hypothesis test1: Tarantino’s movies will have a higher negative sentiment rating than that of Disney.\n",
    "\n",
    "Null hypothesis: 𝜇1 − 𝜇2  =  0\n",
    "\n",
    "Alternative hypothesis: 𝜇1 − 𝜇2 > 0 @ 𝛼 = 0.05\n",
    "\n",
    "Where 𝜇1 stands for the mean negative score for QT; 𝜇2 stands for the mean negative for Disney."
   ]
  },
  {
   "cell_type": "code",
   "execution_count": 22,
   "metadata": {},
   "outputs": [],
   "source": [
    "import matplotlib.pyplot as plt\n",
    "from scipy import stats\n",
    "import seaborn as sns"
   ]
  },
  {
   "cell_type": "code",
   "execution_count": 23,
   "metadata": {},
   "outputs": [
    {
     "data": {
      "text/plain": [
       "<matplotlib.axes._subplots.AxesSubplot at 0x1a20214290>"
      ]
     },
     "execution_count": 23,
     "metadata": {},
     "output_type": "execute_result"
    },
    {
     "data": {
      "image/png": "[encoded data removed]",
      "text/plain": [
       "<Figure size 432x288 with 1 Axes>"
      ]
     },
     "metadata": {
      "needs_background": "light"
     },
     "output_type": "display_data"
    }
   ],
   "source": [
    "# distribution plot of the negative score\n",
    "sns.distplot(QT_df['neg_score'])\n",
    "sns.distplot(disney_df['neg_score'])"
   ]
  },
  {
   "cell_type": "code",
   "execution_count": 24,
   "metadata": {},
   "outputs": [
    {
     "data": {
      "text/plain": [
       "LeveneResult(statistic=0.0036038653544321012, pvalue=0.9527914891381134)"
      ]
     },
     "execution_count": 24,
     "metadata": {},
     "output_type": "execute_result"
    }
   ],
   "source": [
    "stats.levene(QT_df['neg_score'],disney_df['neg_score']) # p-value > 0.05, we regard it has the queal variance"
   ]
  },
  {
   "cell_type": "code",
   "execution_count": 25,
   "metadata": {},
   "outputs": [
    {
     "data": {
      "text/plain": [
       "Ttest_indResult(statistic=1.4900812759200774, pvalue=0.15351758148378744)"
      ]
     },
     "execution_count": 25,
     "metadata": {},
     "output_type": "execute_result"
    }
   ],
   "source": [
    "stats.ttest_ind(QT_df['neg_score'],disney_df['neg_score']) # pvalue is 0.15, larger than 0.05, we fail to reject the null hypothesis."
   ]
  },
  {
   "cell_type": "code",
   "execution_count": 26,
   "metadata": {},
   "outputs": [
    {
     "data": {
      "text/html": [
       "<div>\n",
       "<style scoped>\n",
       "    .dataframe tbody tr th:only-of-type {\n",
       "        vertical-align: middle;\n",
       "    }\n",
       "\n",
       "    .dataframe tbody tr th {\n",
       "        vertical-align: top;\n",
       "    }\n",
       "\n",
       "    .dataframe thead th {\n",
       "        text-align: right;\n",
       "    }\n",
       "</style>\n",
       "<table border=\"1\" class=\"dataframe\">\n",
       "  <thead>\n",
       "    <tr style=\"text-align: right;\">\n",
       "      <th></th>\n",
       "      <th>statistic</th>\n",
       "      <th>pvalue</th>\n",
       "    </tr>\n",
       "  </thead>\n",
       "  <tbody>\n",
       "    <tr>\n",
       "      <td>Levene</td>\n",
       "      <td>0.00362</td>\n",
       "      <td>0.9528</td>\n",
       "    </tr>\n",
       "    <tr>\n",
       "      <td>Ttest</td>\n",
       "      <td>1.4901</td>\n",
       "      <td>0.1535</td>\n",
       "    </tr>\n",
       "  </tbody>\n",
       "</table>\n",
       "</div>"
      ],
      "text/plain": [
       "       statistic  pvalue\n",
       "Levene   0.00362  0.9528\n",
       "Ttest     1.4901  0.1535"
      ]
     },
     "execution_count": 26,
     "metadata": {},
     "output_type": "execute_result"
    }
   ],
   "source": [
    "import pandas as pd \n",
    "from pandas import Series,DataFrame\n",
    "data_p = {'statistic':['0.00362','1.4901'],\n",
    "        'pvalue':['0.9528','0.1535']\n",
    "       }\n",
    "p = DataFrame(data_p, index = ['Levene','Ttest'])\n",
    "p"
   ]
  },
  {
   "cell_type": "markdown",
   "metadata": {},
   "source": [
    "### Hypothesis test2: Overtime, the total sentiment score rating has increased for both movie categories.\n",
    "### Hypothesis test3: The sentiment score calculated by \"Harvard IV\" and \"ANEW\" has the same trend."
   ]
  },
  {
   "cell_type": "code",
   "execution_count": 27,
   "metadata": {},
   "outputs": [],
   "source": [
    "import seaborn as sns\n",
    "import matplotlib\n",
    "import matplotlib.pyplot as plt"
   ]
  },
  {
   "cell_type": "code",
   "execution_count": 28,
   "metadata": {},
   "outputs": [],
   "source": [
    "df = pd.read_csv(\"NEW_dataframe.csv\")"
   ]
  },
  {
   "cell_type": "code",
   "execution_count": 29,
   "metadata": {},
   "outputs": [
    {
     "data": {
      "text/plain": [
       "Text(0, 0.5, 'Rating')"
      ]
     },
     "execution_count": 29,
     "metadata": {},
     "output_type": "execute_result"
    },
    {
     "data": {
      "image/png": "[encoded data removed]",
      "text/plain": [
       "<Figure size 1080x576 with 2 Axes>"
      ]
     },
     "metadata": {
      "needs_background": "light"
     },
     "output_type": "display_data"
    }
   ],
   "source": [
    "df_qt = df[df.Type == \"QT\"]\n",
    "qt_sort =df_qt.sort_values(by=\"Year\",ascending=True)\n",
    "qt_sort\n",
    "\n",
    "qt_sen_anew = list(qt_sort[\"sentiment_score_anew\"])\n",
    "qt_sen_iv = list(qt_sort[\"sentiment_score_iv\"]*100)\n",
    "year_label = list(qt_sort[\"Year\"])\n",
    "\n",
    "qt_rating = list(qt_sort[\"Rating\"])\n",
    " \n",
    "x=year_label\n",
    "y1=qt_sen_anew\n",
    "y2=qt_sen_iv\n",
    "bar_width = 0.3\n",
    "plt.rcParams['figure.figsize'] = (15.0,8.0) \n",
    " \n",
    "fig = plt.figure()\n",
    "ax1 = fig.add_subplot(111)\n",
    "plt.bar(x=range(len(x)), height=y1, color='coral', alpha=0.8, width=bar_width)\n",
    "plt.bar(x=np.arange(len(x)) + bar_width, height=y2, color='deepskyblue', alpha=0.8, width=bar_width)\n",
    "\n",
    "ax1.set_ylabel('anew_score',fontsize='15')\n",
    "ax1.set_title(\"QT Moive Analysis\",fontsize='20')  \n",
    "#plt.yticks(fontsize=15)\n",
    "plt.xticks(range(len(x)), x)\n",
    "#plt.xticks(fontsize=15)\n",
    " \n",
    "ax2 = ax1.twinx()\n",
    "ax2.plot(range(len(x)), qt_rating, 'black', marker='*', ms=10)\n",
    "ax2.set_ylabel('Rating',fontsize='15')\n",
    "\n"
   ]
  },
  {
   "cell_type": "code",
   "execution_count": 30,
   "metadata": {},
   "outputs": [
    {
     "data": {
      "text/plain": [
       "Text(0, 0.5, 'Rating')"
      ]
     },
     "execution_count": 30,
     "metadata": {},
     "output_type": "execute_result"
    },
    {
     "data": {
      "image/png": "[encoded data removed]",
      "text/plain": [
       "<Figure size 1080x576 with 2 Axes>"
      ]
     },
     "metadata": {
      "needs_background": "light"
     },
     "output_type": "display_data"
    }
   ],
   "source": [
    "df_dis = df[df.Type != \"QT\"]\n",
    "dis_sort =df_dis.sort_values(by=\"Year\",ascending=True)\n",
    "dis_sort\n",
    "\n",
    "dis_sen_anew = list(dis_sort[\"sentiment_score_anew\"])\n",
    "dis_sen_iv = list(dis_sort[\"sentiment_score_iv\"]*100)\n",
    "year_label = list(dis_sort[\"Year\"])\n",
    "\n",
    "dis_rating = list(dis_sort[\"Rating\"])\n",
    "dis_rating\n",
    " \n",
    "x=year_label\n",
    "y1=dis_sen_anew\n",
    "y2=dis_sen_iv\n",
    "bar_width = 0.3\n",
    "plt.rcParams['figure.figsize'] = (15.0,8.0) \n",
    " \n",
    "fig = plt.figure()\n",
    "ax1 = fig.add_subplot(111)\n",
    "plt.bar(x=range(len(x)), height=y1, color='coral', alpha=0.8, width=bar_width)\n",
    "plt.bar(x=np.arange(len(x)) + bar_width, height=y2, color='deepskyblue', alpha=0.8, width=bar_width)\n",
    "\n",
    "ax1.set_ylabel('anew_score',fontsize='15')\n",
    "ax1.set_title(\"Disney Moive Analysis\",fontsize='20')  \n",
    "plt.yticks(fontsize=15)\n",
    "plt.xticks(range(len(x)), x)\n",
    "plt.xticks(fontsize=15)\n",
    " \n",
    "ax2 = ax1.twinx()\n",
    "ax2.plot(range(len(x)), dis_rating, 'black', marker='*', ms=10)\n",
    "ax2.set_ylabel('Rating',fontsize='15')"
   ]
  },
  {
   "cell_type": "markdown",
   "metadata": {},
   "source": [
    "## Regression:\n",
    "### Topic Modelling:"
   ]
  },
  {
   "cell_type": "code",
   "execution_count": 31,
   "metadata": {},
   "outputs": [],
   "source": [
    "# ALL：\n",
    "from sklearn import feature_extraction  \n",
    "from sklearn.feature_extraction.text import TfidfTransformer  \n",
    "from sklearn.feature_extraction.text import CountVectorizer\n",
    "from sklearn.feature_extraction.text import HashingVectorizer \n",
    "from sklearn.metrics.pairwise import cosine_similarity\n",
    "from sklearn.decomposition import NMF\n",
    "from sklearn.model_selection import KFold\n",
    "from sklearn.naive_bayes import MultinomialNB\n",
    "from sklearn.metrics import precision_recall_fscore_support\n",
    "import numpy as np\n",
    "from sklearn.cluster import KMeans\n",
    "import numpy as np\n",
    "from sklearn.model_selection import train_test_split\n",
    "from sklearn.feature_extraction.text import CountVectorizer\n",
    "from sklearn import metrics\n",
    "from sklearn import preprocessing\n",
    "\n"
   ]
  },
  {
   "cell_type": "code",
   "execution_count": 32,
   "metadata": {},
   "outputs": [
    {
     "name": "stdout",
     "output_type": "stream",
     "text": [
      "Topic #0: one like back two know see little go hand would\n",
      "Topic #1: drschultz big back like one two know nigger horse black\n",
      "Topic #2: know get like back got one int see go room\n",
      "Topic #3: back two get one like int see door room cut\n",
      "Topic #4: get like back one know two gonna got door youre\n",
      "Topic #5: japanese sword oren yuki cu one back black english go\n",
      "Topic #6: sex machine door back fuckin get pussy big chet vampires\n",
      "Topic #7: nazi french cinema back collanda one ltaldo major table donny\n",
      "Topic #8: drschultz horse nigger slave men big candyland slaves roy greenville\n",
      "Topic #9: know get back got day like gonna one tell youre\n",
      "Topic #10: like know get one back int got room youre gonna\n",
      "Topic #11: room door back one looks youre theodore wife like phone\n",
      "Topic #12: zzzzzz fourstory flowery flowers flower flow flourishcompletely flourish flour flounder\n",
      "Topic #13: bag know contd money got get looks back one black\n",
      "Topic #14: virgil get know day youre like got room nicholson shit\n",
      "Topic #15: wurlitzer camera day grace roger cu os deputies back cut\n",
      "Topic #16: japanese cu oren sword yuki english back hanzo one floor\n",
      "Topic #17: marsellus fuckin like gonna room shit youre int os one\n",
      "Topic #18: fuckin nice fuck know youre car got warehouse cu cops\n",
      "Topic #19: back money looks contd day bag get know closeup look\n",
      "\n"
     ]
    }
   ],
   "source": [
    "count = CountVectorizer()\n",
    "count_matrix = count.fit_transform(qt_cleaned_data)\n",
    "\n",
    "\n",
    "n_components = 20  \n",
    "n_top_words = 10\n",
    "\n",
    "def get_words(model, feature_names, n_top_words):\n",
    "    for topic_idx, topic in enumerate(model.components_):\n",
    "        message = \"Topic #%d: \" % topic_idx\n",
    "        message += \" \".join([feature_names[i]\n",
    "                             for i in topic.argsort()[:-n_top_words - 1:-1]])\n",
    "        print(message)\n",
    "    print()\n",
    "\n",
    "nmf = NMF(n_components=n_components, random_state=1,alpha=.1, l1_ratio=.5).fit(count_matrix)\n",
    "\n",
    "cv_feature_names = count.get_feature_names()\n",
    "\n",
    "get_words(nmf, cv_feature_names, n_top_words)\n",
    "\n",
    "\n"
   ]
  },
  {
   "cell_type": "code",
   "execution_count": 33,
   "metadata": {},
   "outputs": [
    {
     "name": "stdout",
     "output_type": "stream",
     "text": [
      "Topic #0: back looks door one like go night know int around\n",
      "Topic #1: contd back looks day like door love ext int see\n",
      "Topic #2: shanyu back crikee man chienpo khan looks sword cut look\n",
      "Topic #3: contd oh little clawhauser big right bunny flash well youre\n",
      "Topic #4: oh well time yes one see go good say father\n",
      "Topic #5: hey ha okay right oh get go dad gasps come\n",
      "Topic #6: michael oh time children step go chim sir diddle well\n",
      "Topic #7: thou night father close cont ext cut love car laurence\n",
      "Topic #8: oh get fish one youre gonna little got see look\n",
      "Topic #9: zut flicks flip flint flings flinging flinches flinch flimsy flight\n",
      "Topic #10: bill int contd kids house continuous plummer youre principal back\n",
      "Topic #11: contd int youre later oh little kids looks gonna know\n",
      "Topic #12: zut flicks flip flint flings flinging flinches flinch flimsy flight\n",
      "Topic #13: ha oh hey fish get mine dad okay swim gonna\n",
      "Topic #14: frozen sven lee contd snow arendelle castle right trolls okay\n",
      "Topic #15: carpet back lamp oh like looks one turns ali princess\n",
      "Topic #16: carpet looks lamp back head princess ali oh palace pulls\n",
      "Topic #17: lumire castle night contd int one village philippe garderobe see\n",
      "Topic #18: sebastion scuttle got la sea girl max oh know kiss\n",
      "Topic #19: contd oh little youre later big right hey okay gonna\n",
      "\n"
     ]
    }
   ],
   "source": [
    "count = CountVectorizer()\n",
    "count_matrix = count.fit_transform(disney_cleaned_data)\n",
    "\n",
    "\n",
    "n_components = 20\n",
    "n_top_words = 10\n",
    "\n",
    "def get_words(model, feature_names, n_top_words):\n",
    "    for topic_idx, topic in enumerate(model.components_):\n",
    "        message = \"Topic #%d: \" % topic_idx\n",
    "        message += \" \".join([feature_names[i]\n",
    "                             for i in topic.argsort()[:-n_top_words - 1:-1]])\n",
    "        print(message)\n",
    "    print()\n",
    "\n",
    "nmf = NMF(n_components=n_components, random_state=1,alpha=.1, l1_ratio=.5).fit(count_matrix)\n",
    "\n",
    "cv_feature_names = count.get_feature_names()\n",
    "\n",
    "get_words(nmf, cv_feature_names, n_top_words)"
   ]
  },
  {
   "cell_type": "markdown",
   "metadata": {},
   "source": [
    "## Machine Learning Analysis:\n",
    "### 1. Predict if a movie is a Tarantino movie or a Disney movie:"
   ]
  },
  {
   "cell_type": "code",
   "execution_count": 55,
   "metadata": {},
   "outputs": [],
   "source": [
    "# The whole data:\n",
    "all_data = qt_data + disney_data # QT + Disney total: 20\n",
    "# Split data into several small data:\n",
    "def sp_text(x):\n",
    "    sen = []\n",
    "    for i in range(len(x)):\n",
    "        sen += re.findall(r'.{200}',x[i]) # split the data by the length, each small string length is 200\n",
    "    return sen"
   ]
  },
  {
   "cell_type": "code",
   "execution_count": 56,
   "metadata": {},
   "outputs": [],
   "source": [
    "qt_split_data = sp_text(qt_data)\n",
    "dis_split_data = sp_text(disney_data)"
   ]
  },
  {
   "cell_type": "code",
   "execution_count": 57,
   "metadata": {},
   "outputs": [
    {
     "data": {
      "text/plain": [
       "(12418, 2)"
      ]
     },
     "execution_count": 57,
     "metadata": {},
     "output_type": "execute_result"
    }
   ],
   "source": [
    "qt_sp_df = pd.DataFrame(qt_split_data)\n",
    "qt_sp_df.columns = ['Script']\n",
    "qt_sp_df.insert(0,'Type',\"0\")\n",
    "dis_sp_df = pd.DataFrame(dis_split_data)\n",
    "dis_sp_df.columns = ['Script']\n",
    "dis_sp_df.insert(0,'Type',\"1\")\n",
    "all_sp_df = qt_sp_df.append(dis_sp_df)\n",
    "all_sp_df.shape"
   ]
  },
  {
   "cell_type": "code",
   "execution_count": 58,
   "metadata": {},
   "outputs": [],
   "source": [
    "from sklearn.model_selection import train_test_split\n",
    "\n",
    "y_label = [int(yl) for yl in list(all_sp_df.Type)]\n",
    "\n",
    "#依次导入X， y， test_size split the textual data:\n",
    "X_train, X_test, y_train, y_test = train_test_split(all_sp_df.Script, y_label, test_size=0.3,stratify=all_sp_df.Type)\n",
    "# stratify 处理不均衡的数据集"
   ]
  },
  {
   "cell_type": "code",
   "execution_count": 59,
   "metadata": {},
   "outputs": [
    {
     "data": {
      "text/plain": [
       "(8692, 281499)"
      ]
     },
     "execution_count": 59,
     "metadata": {},
     "output_type": "execute_result"
    }
   ],
   "source": [
    "from sklearn.feature_extraction.text import CountVectorizer\n",
    "\n",
    "cv = CountVectorizer(ngram_range = (2,3),stop_words = 'english')\n",
    "\n",
    "#fit_transform是fit和transform两种方法的简写\n",
    "#fit方法用于构建特征空间（构建词典）\n",
    "#transform方法使用该空间将文本数据转化为特征矩阵\n",
    "X_train_cv = cv.fit_transform(X_train)\n",
    "X_train_cv.shape"
   ]
  },
  {
   "cell_type": "code",
   "execution_count": 60,
   "metadata": {},
   "outputs": [
    {
     "name": "stdout",
     "output_type": "stream",
     "text": [
      "              precision    recall  f1-score   support\n",
      "\n",
      "           0       0.93      0.98      0.96      2318\n",
      "           1       0.96      0.88      0.92      1408\n",
      "\n",
      "    accuracy                           0.94      3726\n",
      "   macro avg       0.95      0.93      0.94      3726\n",
      "weighted avg       0.94      0.94      0.94      3726\n",
      "\n"
     ]
    }
   ],
   "source": [
    "from sklearn.linear_model import LogisticRegression\n",
    "from sklearn.metrics import classification_report\n",
    "\n",
    "#用学到的特征空间去对测试集数据进行转换为特征矩阵\n",
    "X_test_cv = cv.transform(X_test)\n",
    "#测试集特征矩阵的列数与训练集特征矩阵的列数是一致的，都是19985\n",
    "X_test_cv\n",
    "# Navie Bayes:\n",
    "# 多项式朴素贝叶斯：sklearn.naive_bayes.MultinomialNB(alpha=1.0, fit_prior=True, class_prior=None)\n",
    "from sklearn.naive_bayes import MultinomialNB\n",
    "nb = MultinomialNB()\n",
    "#这里是有监督的训练模型\n",
    "#所以要同时输入X_train_cv和y_train\n",
    "nb.fit(X_train_cv, y_train)\n",
    "#训练好的模型，对测试集数据进行预测\n",
    "predicted_cv = nb.predict(X_test_cv)\n",
    "print(classification_report(y_test, predicted_cv, labels=[0,1]))"
   ]
  },
  {
   "cell_type": "code",
   "execution_count": 61,
   "metadata": {},
   "outputs": [
    {
     "data": {
      "text/plain": [
       "Text(0.5, 1.0, '$ROC curve$')"
      ]
     },
     "execution_count": 61,
     "metadata": {},
     "output_type": "execute_result"
    },
    {
     "data": {
      "image/png": "[encoded data removed]",
      "text/plain": [
       "<Figure size 1080x576 with 1 Axes>"
      ]
     },
     "metadata": {
      "needs_background": "light"
     },
     "output_type": "display_data"
    }
   ],
   "source": [
    "from sklearn.metrics import roc_auc_score,roc_curve\n",
    "\n",
    "fpr,tpr,thresholds=roc_curve(y_test,predicted_cv)  #计算fpr,tpr,thresholds\n",
    "auc=roc_auc_score(y_test,predicted_cv) #计算auc\n",
    "\n",
    "#画曲线图\n",
    "plt.figure()\n",
    "plt.plot(fpr,tpr)\n",
    "plt.title('$ROC curve$')"
   ]
  },
  {
   "cell_type": "code",
   "execution_count": 62,
   "metadata": {},
   "outputs": [
    {
     "name": "stdout",
     "output_type": "stream",
     "text": [
      "              precision    recall  f1-score   support\n",
      "\n",
      "           0       0.80      1.00      0.89      2318\n",
      "           1       0.99      0.58      0.73      1408\n",
      "\n",
      "    accuracy                           0.84      3726\n",
      "   macro avg       0.90      0.79      0.81      3726\n",
      "weighted avg       0.87      0.84      0.83      3726\n",
      "\n"
     ]
    }
   ],
   "source": [
    "# TF-IDF:\n",
    "from sklearn.feature_extraction.text import TfidfVectorizer\n",
    "\n",
    "\n",
    "tv = TfidfVectorizer(ngram_range = (2,3),stop_words='english')\n",
    "X_train_tf = tv.fit_transform(X_train)\n",
    "X_test_tf = tv.transform(X_test)\n",
    "nb2 = MultinomialNB()\n",
    "nb2.fit(X_train_tf, y_train)\n",
    "predicted_tf = nb2.predict(X_test_tf)\n",
    "print(classification_report(y_test, predicted_tf, labels=[0,1]))"
   ]
  },
  {
   "cell_type": "code",
   "execution_count": 63,
   "metadata": {},
   "outputs": [
    {
     "data": {
      "image/png": "[encoded data removed]",
      "text/plain": [
       "<Figure size 1080x576 with 1 Axes>"
      ]
     },
     "metadata": {
      "needs_background": "light"
     },
     "output_type": "display_data"
    }
   ],
   "source": [
    "fpr,tpr,thresholds=roc_curve(y_test,predicted_tf)  #计算fpr,tpr,thresholds\n",
    "auc=roc_auc_score(y_test,predicted_tf) #计算auc\n",
    "\n",
    "#画曲线图\n",
    "plt.figure()\n",
    "plt.plot(fpr,tpr)\n",
    "plt.title('$ROC curve$')\n",
    "plt.show()"
   ]
  },
  {
   "cell_type": "code",
   "execution_count": 64,
   "metadata": {},
   "outputs": [
    {
     "name": "stdout",
     "output_type": "stream",
     "text": [
      "              precision    recall  f1-score   support\n",
      "\n",
      "           0       0.74      1.00      0.85      2318\n",
      "           1       1.00      0.42      0.60      1408\n",
      "\n",
      "    accuracy                           0.78      3726\n",
      "   macro avg       0.87      0.71      0.72      3726\n",
      "weighted avg       0.84      0.78      0.75      3726\n",
      "\n"
     ]
    }
   ],
   "source": [
    "## Logistic Regression: \n",
    "\n",
    "from sklearn.linear_model import LogisticRegression\n",
    "from sklearn.metrics import classification_report\n",
    "\n",
    "cv = CountVectorizer(ngram_range = (2,3),stop_words='english')\n",
    "X_train_counts = cv.fit_transform(X_train)\n",
    "X_test_counts = cv.transform(X_test)\n",
    "\n",
    "\n",
    "LR = LogisticRegression()\n",
    "LR.fit(X_train_counts, y_train)\n",
    "predicted_lr = LR.predict(X_test_counts)\n",
    "predicted_lr_pb = LR.predict_proba(X_test_counts)\n",
    "print(classification_report(y_test, predicted_lr, labels=[0,1]))"
   ]
  },
  {
   "cell_type": "code",
   "execution_count": 65,
   "metadata": {},
   "outputs": [
    {
     "data": {
      "image/png": "[encoded data removed]",
      "text/plain": [
       "<Figure size 1080x576 with 1 Axes>"
      ]
     },
     "metadata": {
      "needs_background": "light"
     },
     "output_type": "display_data"
    }
   ],
   "source": [
    "fpr,tpr,thresholds=roc_curve(y_test,predicted_lr)  #计算fpr,tpr,thresholds\n",
    "auc=roc_auc_score(y_test,predicted_lr) #计算auc\n",
    "\n",
    "#画曲线图\n",
    "plt.figure()\n",
    "plt.plot(fpr,tpr)\n",
    "plt.title('$ROC curve$')\n",
    "plt.show()"
   ]
  },
  {
   "cell_type": "code",
   "execution_count": 66,
   "metadata": {},
   "outputs": [
    {
     "data": {
      "image/png": "[encoded data removed]",
      "text/plain": [
       "<Figure size 1080x576 with 1 Axes>"
      ]
     },
     "metadata": {
      "needs_background": "light"
     },
     "output_type": "display_data"
    }
   ],
   "source": [
    "y_0=list(predicted_lr_pb[:,1])\n",
    "fpr,tpr,thresholds=roc_curve(y_test,y_0)  #计算fpr,tpr,thresholds\n",
    "auc=roc_auc_score(y_test,y_0) #计算auc\n",
    "\n",
    "#画曲线图\n",
    "plt.figure()\n",
    "plt.plot(fpr,tpr)\n",
    "plt.title('$ROC curve$')\n",
    "plt.show()"
   ]
  },
  {
   "cell_type": "code",
   "execution_count": null,
   "metadata": {},
   "outputs": [],
   "source": []
  },
  {
   "cell_type": "code",
   "execution_count": null,
   "metadata": {},
   "outputs": [],
   "source": []
  },
  {
   "cell_type": "markdown",
   "metadata": {},
   "source": [
    "### 2. Predict if a movie is a Action movie or a Musical movie:"
   ]
  },
  {
   "cell_type": "code",
   "execution_count": 67,
   "metadata": {},
   "outputs": [
    {
     "data": {
      "text/html": [
       "<div>\n",
       "<style scoped>\n",
       "    .dataframe tbody tr th:only-of-type {\n",
       "        vertical-align: middle;\n",
       "    }\n",
       "\n",
       "    .dataframe tbody tr th {\n",
       "        vertical-align: top;\n",
       "    }\n",
       "\n",
       "    .dataframe thead th {\n",
       "        text-align: right;\n",
       "    }\n",
       "</style>\n",
       "<table border=\"1\" class=\"dataframe\">\n",
       "  <thead>\n",
       "    <tr style=\"text-align: right;\">\n",
       "      <th></th>\n",
       "      <th>Type</th>\n",
       "      <th>Script</th>\n",
       "    </tr>\n",
       "  </thead>\n",
       "  <tbody>\n",
       "    <tr>\n",
       "      <td>0</td>\n",
       "      <td>0</td>\n",
       "      <td>gsavjgecaladdin complete script compiled ben s...</td>\n",
       "    </tr>\n",
       "    <tr>\n",
       "      <td>1</td>\n",
       "      <td>0</td>\n",
       "      <td>ntense barbaric heyit home wind back sun west ...</td>\n",
       "    </tr>\n",
       "    <tr>\n",
       "      <td>2</td>\n",
       "      <td>0</td>\n",
       "      <td>an moons fool could fall fall hard dunes ah sa...</td>\n",
       "    </tr>\n",
       "    <tr>\n",
       "      <td>3</td>\n",
       "      <td>0</td>\n",
       "      <td>y enchantment finest merchandise side river jo...</td>\n",
       "    </tr>\n",
       "    <tr>\n",
       "      <td>4</td>\n",
       "      <td>0</td>\n",
       "      <td>s tupperware never seen one intact famous dead...</td>\n",
       "    </tr>\n",
       "    <tr>\n",
       "      <td>...</td>\n",
       "      <td>...</td>\n",
       "      <td>...</td>\n",
       "    </tr>\n",
       "    <tr>\n",
       "      <td>3405</td>\n",
       "      <td>1</td>\n",
       "      <td>uch wipes face dad would proud bawls ca keep s...</td>\n",
       "    </tr>\n",
       "    <tr>\n",
       "      <td>3406</td>\n",
       "      <td>1</td>\n",
       "      <td>ght trained failure option detail small best r...</td>\n",
       "    </tr>\n",
       "    <tr>\n",
       "      <td>3407</td>\n",
       "      <td>1</td>\n",
       "      <td>uns sing solve problem like maria von trapp ki...</td>\n",
       "    </tr>\n",
       "    <tr>\n",
       "      <td>3408</td>\n",
       "      <td>1</td>\n",
       "      <td>y duck new family adorable ducklings ever saw ...</td>\n",
       "    </tr>\n",
       "    <tr>\n",
       "      <td>3409</td>\n",
       "      <td>1</td>\n",
       "      <td>s armed forces huuah audience stares sits back...</td>\n",
       "    </tr>\n",
       "  </tbody>\n",
       "</table>\n",
       "<p>4588 rows × 2 columns</p>\n",
       "</div>"
      ],
      "text/plain": [
       "     Type                                             Script\n",
       "0       0  gsavjgecaladdin complete script compiled ben s...\n",
       "1       0  ntense barbaric heyit home wind back sun west ...\n",
       "2       0  an moons fool could fall fall hard dunes ah sa...\n",
       "3       0  y enchantment finest merchandise side river jo...\n",
       "4       0  s tupperware never seen one intact famous dead...\n",
       "...   ...                                                ...\n",
       "3405    1  uch wipes face dad would proud bawls ca keep s...\n",
       "3406    1  ght trained failure option detail small best r...\n",
       "3407    1  uns sing solve problem like maria von trapp ki...\n",
       "3408    1  y duck new family adorable ducklings ever saw ...\n",
       "3409    1  s armed forces huuah audience stares sits back...\n",
       "\n",
       "[4588 rows x 2 columns]"
      ]
     },
     "execution_count": 67,
     "metadata": {},
     "output_type": "execute_result"
    }
   ],
   "source": [
    "mus_df=all_df[all_df['Genres'].str.contains('musical')]\n",
    "act_df=all_df[all_df['Genres'].str.contains('action')]\n",
    "\n",
    "mus_sen = mus_df['Script'].tolist()\n",
    "act_sen = act_df['Script'].tolist()\n",
    "\n",
    "mus_split_data = sp_text(mus_sen)\n",
    "act_split_data = sp_text(act_sen)\n",
    "\n",
    "mus_sp_df = pd.DataFrame(mus_split_data)\n",
    "mus_sp_df.columns = ['Script']\n",
    "mus_sp_df.insert(0,'Type',\"0\")\n",
    "act_sp_df = pd.DataFrame(act_split_data)\n",
    "act_sp_df.columns = ['Script']\n",
    "act_sp_df.insert(0,'Type',\"1\")\n",
    "all1_sp_df = mus_sp_df.append(act_sp_df)\n",
    "all1_sp_df"
   ]
  },
  {
   "cell_type": "code",
   "execution_count": 68,
   "metadata": {},
   "outputs": [],
   "source": [
    "all1_sp_df.to_csv('a_m_sp.csv') #action musical split sentences dataframe "
   ]
  },
  {
   "cell_type": "code",
   "execution_count": 69,
   "metadata": {},
   "outputs": [
    {
     "name": "stdout",
     "output_type": "stream",
     "text": [
      "Precision: 0.9053995855848536, Recall: 0.8180635865788585, F1_score: 0.8502393871688478\n",
      "Precision: 0.9062820430658806, Recall: 0.8262466550020584, F1_score: 0.8567507181615065\n",
      "Precision: 0.9135802469135803, Recall: 0.8438188213856894, F1_score: 0.870661861074705\n",
      "Precision: 0.9216480252471342, Recall: 0.8328296149760047, F1_score: 0.8649847940983839\n",
      "Precision: 0.9071182174156256, Recall: 0.8251489203276248, F1_score: 0.8555015072622636\n"
     ]
    }
   ],
   "source": [
    "from sklearn.model_selection import KFold\n",
    "from sklearn.naive_bayes import MultinomialNB\n",
    "from sklearn.metrics import precision_recall_fscore_support\n",
    "\n",
    "\n",
    "dataset = pd.read_csv('a_m_sp.csv')\n",
    "X = dataset.Script\n",
    "y = dataset.Type\n",
    "\n",
    "#cross-validation 打乱顺序，10等分\n",
    "kf = KFold(n_splits=5, shuffle=True)\n",
    "for train_index, test_index in kf.split(X):\n",
    "    X_train1, X_test1, y_train1, y_test1 = X[train_index], X[test_index], y[train_index], y[test_index]\n",
    "    cv = CountVectorizer(ngram_range = (2,3),stop_words='english')\n",
    "    X_train_counts = cv.fit_transform(X_train1)\n",
    "    X_test_counts = cv.transform(X_test1)\n",
    "    clf = MultinomialNB()\n",
    "    clf.fit(X_train_counts, y_train1)\n",
    "    predicted_clf = clf.predict(X_test_counts)\n",
    "    p, r, f1, _ = precision_recall_fscore_support(y_test1, predicted_clf, average='macro')\n",
    "    print(\"Precision: {0}, Recall: {1}, F1_score: {2}\".format(p, r, f1))\n",
    "    \n",
    "    \n"
   ]
  },
  {
   "cell_type": "code",
   "execution_count": 70,
   "metadata": {},
   "outputs": [
    {
     "data": {
      "image/png": "[encoded data removed]",
      "text/plain": [
       "<Figure size 1080x576 with 1 Axes>"
      ]
     },
     "metadata": {
      "needs_background": "light"
     },
     "output_type": "display_data"
    }
   ],
   "source": [
    "## 有问题！！\n",
    "fpr,tpr,thresholds=roc_curve(list(y_test1),predicted_clf)  #计算fpr,tpr,thresholds\n",
    "auc4=roc_auc_score(list(y_test1),predicted_clf) #计算auc\n",
    "\n",
    "#画曲线图\n",
    "plt.figure()\n",
    "plt.plot(fpr,tpr)\n",
    "plt.title('$ROC curve$')\n",
    "plt.show()"
   ]
  },
  {
   "cell_type": "code",
   "execution_count": 51,
   "metadata": {},
   "outputs": [
    {
     "data": {
      "text/plain": [
       "0.9650846468879472"
      ]
     },
     "execution_count": 51,
     "metadata": {},
     "output_type": "execute_result"
    }
   ],
   "source": [
    "auc4"
   ]
  },
  {
   "cell_type": "code",
   "execution_count": null,
   "metadata": {},
   "outputs": [],
   "source": [
    "#Not useful:\n",
    "# kmeans:\n",
    "from sklearn.cluster import KMeans\n",
    "import numpy as np\n",
    "from sklearn.model_selection import train_test_split\n",
    "from sklearn.feature_extraction.text import CountVectorizer\n",
    "from sklearn import metrics\n",
    "from sklearn import preprocessing\n",
    "\n",
    "\n",
    "X1_train, X1_test, y1_train, y1_test = train_test_split(all1_sp_df.Script, all1_sp_df.Type, test_size=0.3)\n",
    "\n",
    "# 这里将特征空间压缩到200维，也就是只要200个词语作为特征词\n",
    "cv1 = CountVectorizer(max_features=200)\n",
    "X1_train_counts = cv1.fit_transform(X1_train)\n",
    "X1_test_counts = cv1.transform(X1_test)\n",
    "X1_train_counts\n",
    "\n",
    "\n",
    "km=KMeans(n_clusters=2).fit(X1_train_counts)"
   ]
  },
  {
   "cell_type": "code",
   "execution_count": null,
   "metadata": {},
   "outputs": [],
   "source": []
  },
  {
   "cell_type": "code",
   "execution_count": null,
   "metadata": {},
   "outputs": [],
   "source": []
  },
  {
   "cell_type": "code",
   "execution_count": null,
   "metadata": {},
   "outputs": [],
   "source": []
  }
 ],
 "metadata": {
  "kernelspec": {
   "display_name": "Python 3",
   "language": "python",
   "name": "python3"
  },
  "language_info": {
   "codemirror_mode": {
    "name": "ipython",
    "version": 3
   },
   "file_extension": ".py",
   "mimetype": "text/x-python",
   "name": "python",
   "nbconvert_exporter": "python",
   "pygments_lexer": "ipython3",
   "version": "3.7.4"
  }
 },
 "nbformat": 4,
 "nbformat_minor": 2
}
